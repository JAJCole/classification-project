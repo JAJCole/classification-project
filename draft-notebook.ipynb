{
 "cells": [
  {
   "cell_type": "code",
   "execution_count": 3,
   "metadata": {},
   "outputs": [],
   "source": [
    "# import fx for wrangling telco data\n",
    "from acquire_prep import *"
   ]
  },
  {
   "cell_type": "code",
   "execution_count": 5,
   "metadata": {},
   "outputs": [
    {
     "data": {
      "text/html": [
       "<div>\n",
       "<style scoped>\n",
       "    .dataframe tbody tr th:only-of-type {\n",
       "        vertical-align: middle;\n",
       "    }\n",
       "\n",
       "    .dataframe tbody tr th {\n",
       "        vertical-align: top;\n",
       "    }\n",
       "\n",
       "    .dataframe thead th {\n",
       "        text-align: right;\n",
       "    }\n",
       "</style>\n",
       "<table border=\"1\" class=\"dataframe\">\n",
       "  <thead>\n",
       "    <tr style=\"text-align: right;\">\n",
       "      <th></th>\n",
       "      <th>0</th>\n",
       "      <th>1</th>\n",
       "      <th>2</th>\n",
       "      <th>3</th>\n",
       "      <th>4</th>\n",
       "    </tr>\n",
       "  </thead>\n",
       "  <tbody>\n",
       "    <tr>\n",
       "      <th>customer_id</th>\n",
       "      <td>0002-ORFBO</td>\n",
       "      <td>0003-MKNFE</td>\n",
       "      <td>0004-TLHLJ</td>\n",
       "      <td>0011-IGKFF</td>\n",
       "      <td>0013-EXCHZ</td>\n",
       "    </tr>\n",
       "    <tr>\n",
       "      <th>senior_citizen</th>\n",
       "      <td>0</td>\n",
       "      <td>0</td>\n",
       "      <td>0</td>\n",
       "      <td>1</td>\n",
       "      <td>1</td>\n",
       "    </tr>\n",
       "    <tr>\n",
       "      <th>tenure</th>\n",
       "      <td>9</td>\n",
       "      <td>9</td>\n",
       "      <td>4</td>\n",
       "      <td>13</td>\n",
       "      <td>3</td>\n",
       "    </tr>\n",
       "    <tr>\n",
       "      <th>monthly_charges</th>\n",
       "      <td>65.6</td>\n",
       "      <td>59.9</td>\n",
       "      <td>73.9</td>\n",
       "      <td>98.0</td>\n",
       "      <td>83.9</td>\n",
       "    </tr>\n",
       "    <tr>\n",
       "      <th>total_charges</th>\n",
       "      <td>593.3</td>\n",
       "      <td>542.4</td>\n",
       "      <td>280.85</td>\n",
       "      <td>1237.85</td>\n",
       "      <td>267.4</td>\n",
       "    </tr>\n",
       "    <tr>\n",
       "      <th>gender_encoded</th>\n",
       "      <td>1</td>\n",
       "      <td>0</td>\n",
       "      <td>0</td>\n",
       "      <td>0</td>\n",
       "      <td>1</td>\n",
       "    </tr>\n",
       "    <tr>\n",
       "      <th>partner_encoded</th>\n",
       "      <td>1</td>\n",
       "      <td>0</td>\n",
       "      <td>0</td>\n",
       "      <td>1</td>\n",
       "      <td>1</td>\n",
       "    </tr>\n",
       "    <tr>\n",
       "      <th>dependents_encoded</th>\n",
       "      <td>1</td>\n",
       "      <td>0</td>\n",
       "      <td>0</td>\n",
       "      <td>0</td>\n",
       "      <td>0</td>\n",
       "    </tr>\n",
       "    <tr>\n",
       "      <th>phone_service_encoded</th>\n",
       "      <td>1</td>\n",
       "      <td>1</td>\n",
       "      <td>1</td>\n",
       "      <td>1</td>\n",
       "      <td>1</td>\n",
       "    </tr>\n",
       "    <tr>\n",
       "      <th>paperless_billing_encoded</th>\n",
       "      <td>1</td>\n",
       "      <td>0</td>\n",
       "      <td>1</td>\n",
       "      <td>1</td>\n",
       "      <td>1</td>\n",
       "    </tr>\n",
       "    <tr>\n",
       "      <th>churn_encoded</th>\n",
       "      <td>0</td>\n",
       "      <td>0</td>\n",
       "      <td>1</td>\n",
       "      <td>1</td>\n",
       "      <td>1</td>\n",
       "    </tr>\n",
       "    <tr>\n",
       "      <th>multiple_lines_No phone service</th>\n",
       "      <td>0</td>\n",
       "      <td>0</td>\n",
       "      <td>0</td>\n",
       "      <td>0</td>\n",
       "      <td>0</td>\n",
       "    </tr>\n",
       "    <tr>\n",
       "      <th>multiple_lines_Yes</th>\n",
       "      <td>0</td>\n",
       "      <td>1</td>\n",
       "      <td>0</td>\n",
       "      <td>0</td>\n",
       "      <td>0</td>\n",
       "    </tr>\n",
       "    <tr>\n",
       "      <th>online_security_No internet service</th>\n",
       "      <td>0</td>\n",
       "      <td>0</td>\n",
       "      <td>0</td>\n",
       "      <td>0</td>\n",
       "      <td>0</td>\n",
       "    </tr>\n",
       "    <tr>\n",
       "      <th>online_security_Yes</th>\n",
       "      <td>0</td>\n",
       "      <td>0</td>\n",
       "      <td>0</td>\n",
       "      <td>0</td>\n",
       "      <td>0</td>\n",
       "    </tr>\n",
       "    <tr>\n",
       "      <th>online_backup_No internet service</th>\n",
       "      <td>0</td>\n",
       "      <td>0</td>\n",
       "      <td>0</td>\n",
       "      <td>0</td>\n",
       "      <td>0</td>\n",
       "    </tr>\n",
       "    <tr>\n",
       "      <th>online_backup_Yes</th>\n",
       "      <td>1</td>\n",
       "      <td>0</td>\n",
       "      <td>0</td>\n",
       "      <td>1</td>\n",
       "      <td>0</td>\n",
       "    </tr>\n",
       "    <tr>\n",
       "      <th>device_protection_No internet service</th>\n",
       "      <td>0</td>\n",
       "      <td>0</td>\n",
       "      <td>0</td>\n",
       "      <td>0</td>\n",
       "      <td>0</td>\n",
       "    </tr>\n",
       "    <tr>\n",
       "      <th>device_protection_Yes</th>\n",
       "      <td>0</td>\n",
       "      <td>0</td>\n",
       "      <td>1</td>\n",
       "      <td>1</td>\n",
       "      <td>0</td>\n",
       "    </tr>\n",
       "    <tr>\n",
       "      <th>tech_support_No internet service</th>\n",
       "      <td>0</td>\n",
       "      <td>0</td>\n",
       "      <td>0</td>\n",
       "      <td>0</td>\n",
       "      <td>0</td>\n",
       "    </tr>\n",
       "    <tr>\n",
       "      <th>tech_support_Yes</th>\n",
       "      <td>1</td>\n",
       "      <td>0</td>\n",
       "      <td>0</td>\n",
       "      <td>0</td>\n",
       "      <td>1</td>\n",
       "    </tr>\n",
       "    <tr>\n",
       "      <th>streaming_tv_No internet service</th>\n",
       "      <td>0</td>\n",
       "      <td>0</td>\n",
       "      <td>0</td>\n",
       "      <td>0</td>\n",
       "      <td>0</td>\n",
       "    </tr>\n",
       "    <tr>\n",
       "      <th>streaming_tv_Yes</th>\n",
       "      <td>1</td>\n",
       "      <td>0</td>\n",
       "      <td>0</td>\n",
       "      <td>1</td>\n",
       "      <td>1</td>\n",
       "    </tr>\n",
       "    <tr>\n",
       "      <th>streaming_movies_No internet service</th>\n",
       "      <td>0</td>\n",
       "      <td>0</td>\n",
       "      <td>0</td>\n",
       "      <td>0</td>\n",
       "      <td>0</td>\n",
       "    </tr>\n",
       "    <tr>\n",
       "      <th>streaming_movies_Yes</th>\n",
       "      <td>0</td>\n",
       "      <td>1</td>\n",
       "      <td>0</td>\n",
       "      <td>1</td>\n",
       "      <td>0</td>\n",
       "    </tr>\n",
       "    <tr>\n",
       "      <th>contract_type_One year</th>\n",
       "      <td>1</td>\n",
       "      <td>0</td>\n",
       "      <td>0</td>\n",
       "      <td>0</td>\n",
       "      <td>0</td>\n",
       "    </tr>\n",
       "    <tr>\n",
       "      <th>contract_type_Two year</th>\n",
       "      <td>0</td>\n",
       "      <td>0</td>\n",
       "      <td>0</td>\n",
       "      <td>0</td>\n",
       "      <td>0</td>\n",
       "    </tr>\n",
       "    <tr>\n",
       "      <th>internet_service_type_Fiber optic</th>\n",
       "      <td>0</td>\n",
       "      <td>0</td>\n",
       "      <td>1</td>\n",
       "      <td>1</td>\n",
       "      <td>1</td>\n",
       "    </tr>\n",
       "    <tr>\n",
       "      <th>internet_service_type_None</th>\n",
       "      <td>0</td>\n",
       "      <td>0</td>\n",
       "      <td>0</td>\n",
       "      <td>0</td>\n",
       "      <td>0</td>\n",
       "    </tr>\n",
       "    <tr>\n",
       "      <th>payment_type_Credit card (automatic)</th>\n",
       "      <td>0</td>\n",
       "      <td>0</td>\n",
       "      <td>0</td>\n",
       "      <td>0</td>\n",
       "      <td>0</td>\n",
       "    </tr>\n",
       "    <tr>\n",
       "      <th>payment_type_Electronic check</th>\n",
       "      <td>0</td>\n",
       "      <td>0</td>\n",
       "      <td>1</td>\n",
       "      <td>1</td>\n",
       "      <td>0</td>\n",
       "    </tr>\n",
       "    <tr>\n",
       "      <th>payment_type_Mailed check</th>\n",
       "      <td>1</td>\n",
       "      <td>1</td>\n",
       "      <td>0</td>\n",
       "      <td>0</td>\n",
       "      <td>1</td>\n",
       "    </tr>\n",
       "  </tbody>\n",
       "</table>\n",
       "</div>"
      ],
      "text/plain": [
       "                                                0           1           2  \\\n",
       "customer_id                            0002-ORFBO  0003-MKNFE  0004-TLHLJ   \n",
       "senior_citizen                                  0           0           0   \n",
       "tenure                                          9           9           4   \n",
       "monthly_charges                              65.6        59.9        73.9   \n",
       "total_charges                               593.3       542.4      280.85   \n",
       "gender_encoded                                  1           0           0   \n",
       "partner_encoded                                 1           0           0   \n",
       "dependents_encoded                              1           0           0   \n",
       "phone_service_encoded                           1           1           1   \n",
       "paperless_billing_encoded                       1           0           1   \n",
       "churn_encoded                                   0           0           1   \n",
       "multiple_lines_No phone service                 0           0           0   \n",
       "multiple_lines_Yes                              0           1           0   \n",
       "online_security_No internet service             0           0           0   \n",
       "online_security_Yes                             0           0           0   \n",
       "online_backup_No internet service               0           0           0   \n",
       "online_backup_Yes                               1           0           0   \n",
       "device_protection_No internet service           0           0           0   \n",
       "device_protection_Yes                           0           0           1   \n",
       "tech_support_No internet service                0           0           0   \n",
       "tech_support_Yes                                1           0           0   \n",
       "streaming_tv_No internet service                0           0           0   \n",
       "streaming_tv_Yes                                1           0           0   \n",
       "streaming_movies_No internet service            0           0           0   \n",
       "streaming_movies_Yes                            0           1           0   \n",
       "contract_type_One year                          1           0           0   \n",
       "contract_type_Two year                          0           0           0   \n",
       "internet_service_type_Fiber optic               0           0           1   \n",
       "internet_service_type_None                      0           0           0   \n",
       "payment_type_Credit card (automatic)            0           0           0   \n",
       "payment_type_Electronic check                   0           0           1   \n",
       "payment_type_Mailed check                       1           1           0   \n",
       "\n",
       "                                                3           4  \n",
       "customer_id                            0011-IGKFF  0013-EXCHZ  \n",
       "senior_citizen                                  1           1  \n",
       "tenure                                         13           3  \n",
       "monthly_charges                              98.0        83.9  \n",
       "total_charges                             1237.85       267.4  \n",
       "gender_encoded                                  0           1  \n",
       "partner_encoded                                 1           1  \n",
       "dependents_encoded                              0           0  \n",
       "phone_service_encoded                           1           1  \n",
       "paperless_billing_encoded                       1           1  \n",
       "churn_encoded                                   1           1  \n",
       "multiple_lines_No phone service                 0           0  \n",
       "multiple_lines_Yes                              0           0  \n",
       "online_security_No internet service             0           0  \n",
       "online_security_Yes                             0           0  \n",
       "online_backup_No internet service               0           0  \n",
       "online_backup_Yes                               1           0  \n",
       "device_protection_No internet service           0           0  \n",
       "device_protection_Yes                           1           0  \n",
       "tech_support_No internet service                0           0  \n",
       "tech_support_Yes                                0           1  \n",
       "streaming_tv_No internet service                0           0  \n",
       "streaming_tv_Yes                                1           1  \n",
       "streaming_movies_No internet service            0           0  \n",
       "streaming_movies_Yes                            1           0  \n",
       "contract_type_One year                          0           0  \n",
       "contract_type_Two year                          0           0  \n",
       "internet_service_type_Fiber optic               1           1  \n",
       "internet_service_type_None                      0           0  \n",
       "payment_type_Credit card (automatic)            0           0  \n",
       "payment_type_Electronic check                   1           0  \n",
       "payment_type_Mailed check                       0           1  "
      ]
     },
     "execution_count": 5,
     "metadata": {},
     "output_type": "execute_result"
    }
   ],
   "source": [
    "# display\n",
    "prep_telco().head().T"
   ]
  },
  {
   "cell_type": "code",
   "execution_count": 6,
   "metadata": {},
   "outputs": [
    {
     "data": {
      "text/plain": [
       "(7043, 32)"
      ]
     },
     "execution_count": 6,
     "metadata": {},
     "output_type": "execute_result"
    }
   ],
   "source": [
    "# measure rows and column \n",
    "prep_telco().shape"
   ]
  },
  {
   "cell_type": "code",
   "execution_count": 13,
   "metadata": {},
   "outputs": [],
   "source": [
    "# create manipulation object of telco dataframe\n",
    "df = prep_telco()"
   ]
  },
  {
   "cell_type": "code",
   "execution_count": 10,
   "metadata": {},
   "outputs": [
    {
     "data": {
      "text/plain": [
       "customer_id                               object\n",
       "senior_citizen                             int64\n",
       "tenure                                     int64\n",
       "monthly_charges                          float64\n",
       "total_charges                             object\n",
       "gender_encoded                             int64\n",
       "partner_encoded                            int64\n",
       "dependents_encoded                         int64\n",
       "phone_service_encoded                      int64\n",
       "paperless_billing_encoded                  int64\n",
       "churn_encoded                              int64\n",
       "multiple_lines_No phone service            uint8\n",
       "multiple_lines_Yes                         uint8\n",
       "online_security_No internet service        uint8\n",
       "online_security_Yes                        uint8\n",
       "online_backup_No internet service          uint8\n",
       "online_backup_Yes                          uint8\n",
       "device_protection_No internet service      uint8\n",
       "device_protection_Yes                      uint8\n",
       "tech_support_No internet service           uint8\n",
       "tech_support_Yes                           uint8\n",
       "streaming_tv_No internet service           uint8\n",
       "streaming_tv_Yes                           uint8\n",
       "streaming_movies_No internet service       uint8\n",
       "streaming_movies_Yes                       uint8\n",
       "contract_type_One year                     uint8\n",
       "contract_type_Two year                     uint8\n",
       "internet_service_type_Fiber optic          uint8\n",
       "internet_service_type_None                 uint8\n",
       "payment_type_Credit card (automatic)       uint8\n",
       "payment_type_Electronic check              uint8\n",
       "payment_type_Mailed check                  uint8\n",
       "dtype: object"
      ]
     },
     "execution_count": 10,
     "metadata": {},
     "output_type": "execute_result"
    }
   ],
   "source": [
    "# assess data types\n",
    "df.dtypes"
   ]
  },
  {
   "cell_type": "code",
   "execution_count": 7,
   "metadata": {},
   "outputs": [],
   "source": [
    "df['total_charges'] = pd.to_numeric(df['total_charges'], errors='coerce') #change total_charges to float\n",
    "\n",
    "# dropping nan\n",
    "df.dropna(subset=['total_charges'], inplace=True)"
   ]
  },
  {
   "cell_type": "code",
   "execution_count": 12,
   "metadata": {},
   "outputs": [
    {
     "data": {
      "text/plain": [
       "customer_id                               object\n",
       "senior_citizen                             int64\n",
       "tenure                                     int64\n",
       "monthly_charges                          float64\n",
       "total_charges                            float64\n",
       "gender_encoded                             int64\n",
       "partner_encoded                            int64\n",
       "dependents_encoded                         int64\n",
       "phone_service_encoded                      int64\n",
       "paperless_billing_encoded                  int64\n",
       "churn_encoded                              int64\n",
       "multiple_lines_No phone service            uint8\n",
       "multiple_lines_Yes                         uint8\n",
       "online_security_No internet service        uint8\n",
       "online_security_Yes                        uint8\n",
       "online_backup_No internet service          uint8\n",
       "online_backup_Yes                          uint8\n",
       "device_protection_No internet service      uint8\n",
       "device_protection_Yes                      uint8\n",
       "tech_support_No internet service           uint8\n",
       "tech_support_Yes                           uint8\n",
       "streaming_tv_No internet service           uint8\n",
       "streaming_tv_Yes                           uint8\n",
       "streaming_movies_No internet service       uint8\n",
       "streaming_movies_Yes                       uint8\n",
       "contract_type_One year                     uint8\n",
       "contract_type_Two year                     uint8\n",
       "internet_service_type_Fiber optic          uint8\n",
       "internet_service_type_None                 uint8\n",
       "payment_type_Credit card (automatic)       uint8\n",
       "payment_type_Electronic check              uint8\n",
       "payment_type_Mailed check                  uint8\n",
       "dtype: object"
      ]
     },
     "execution_count": 12,
     "metadata": {},
     "output_type": "execute_result"
    }
   ],
   "source": [
    "df.dtypes"
   ]
  },
  {
   "cell_type": "code",
   "execution_count": 17,
   "metadata": {},
   "outputs": [],
   "source": [
    "import pandas as pd\n",
    "import numpy as np\n",
    "import matplotlib.pyplot as plt\n",
    "import acquire_prep\n",
    "\n",
    "import seaborn as sns\n",
    "\n",
    "from acquire_prep import prep_telco\n",
    "from acquire_prep import my_train_test_split\n",
    "\n",
    "from sklearn.linear_model import LogisticRegression\n",
    "from sklearn.metrics import classification_report\n",
    "from sklearn.metrics import confusion_matrix\n",
    "\n",
    "\n",
    "import warnings\n",
    "warnings.filterwarnings(\"ignore\")"
   ]
  },
  {
   "cell_type": "code",
   "execution_count": 13,
   "metadata": {},
   "outputs": [
    {
     "data": {
      "text/plain": [
       "0    5163\n",
       "1    1869\n",
       "Name: churn_encoded, dtype: int64"
      ]
     },
     "execution_count": 13,
     "metadata": {},
     "output_type": "execute_result"
    }
   ],
   "source": [
    "df['churn_encoded'].value_counts() #baseline count of churn"
   ]
  },
  {
   "cell_type": "code",
   "execution_count": 38,
   "metadata": {},
   "outputs": [
    {
     "data": {
      "text/plain": [
       "0.26578498293515357"
      ]
     },
     "execution_count": 38,
     "metadata": {},
     "output_type": "execute_result"
    }
   ],
   "source": [
    "1869/(1869+5163) # % of baseline churn prediction"
   ]
  },
  {
   "cell_type": "markdown",
   "metadata": {},
   "source": [
    "## First model with all encoded and numeric data types\n",
    "\n",
    "target: churn_encoded"
   ]
  },
  {
   "cell_type": "code",
   "execution_count": 132,
   "metadata": {},
   "outputs": [
    {
     "name": "stdout",
     "output_type": "stream",
     "text": [
      "(4218, 32)\n",
      "(1407, 32)\n",
      "(1407, 32)\n"
     ]
    }
   ],
   "source": [
    "#my_train_test_split(df, target='churn_encoded')\n",
    "train, validate, test = my_train_test_split(df,'churn_encoded')\n",
    "print(train.shape)\n",
    "print(validate.shape)\n",
    "print(test.shape)"
   ]
  },
  {
   "cell_type": "code",
   "execution_count": 133,
   "metadata": {},
   "outputs": [],
   "source": [
    "# this split removes further objects from train,val, test for logistic regression error avoidance\n",
    "x_train = train.drop(columns=['churn_encoded','customer_id']).dropna()\n",
    "y_train = train.churn_encoded.dropna()\n",
    "\n",
    "x_val = validate.drop(columns=['churn_encoded','customer_id']).dropna()\n",
    "y_val = validate.churn_encoded\n",
    "\n",
    "x_test = test.drop(columns=['churn_encoded','customer_id']).dropna()\n",
    "y_test = test.churn_encoded"
   ]
  },
  {
   "cell_type": "code",
   "execution_count": 134,
   "metadata": {},
   "outputs": [],
   "source": [
    "reg_o = LogisticRegression()"
   ]
  },
  {
   "cell_type": "code",
   "execution_count": 135,
   "metadata": {},
   "outputs": [
    {
     "data": {
      "text/html": [
       "<style>#sk-container-id-10 {color: black;background-color: white;}#sk-container-id-10 pre{padding: 0;}#sk-container-id-10 div.sk-toggleable {background-color: white;}#sk-container-id-10 label.sk-toggleable__label {cursor: pointer;display: block;width: 100%;margin-bottom: 0;padding: 0.3em;box-sizing: border-box;text-align: center;}#sk-container-id-10 label.sk-toggleable__label-arrow:before {content: \"▸\";float: left;margin-right: 0.25em;color: #696969;}#sk-container-id-10 label.sk-toggleable__label-arrow:hover:before {color: black;}#sk-container-id-10 div.sk-estimator:hover label.sk-toggleable__label-arrow:before {color: black;}#sk-container-id-10 div.sk-toggleable__content {max-height: 0;max-width: 0;overflow: hidden;text-align: left;background-color: #f0f8ff;}#sk-container-id-10 div.sk-toggleable__content pre {margin: 0.2em;color: black;border-radius: 0.25em;background-color: #f0f8ff;}#sk-container-id-10 input.sk-toggleable__control:checked~div.sk-toggleable__content {max-height: 200px;max-width: 100%;overflow: auto;}#sk-container-id-10 input.sk-toggleable__control:checked~label.sk-toggleable__label-arrow:before {content: \"▾\";}#sk-container-id-10 div.sk-estimator input.sk-toggleable__control:checked~label.sk-toggleable__label {background-color: #d4ebff;}#sk-container-id-10 div.sk-label input.sk-toggleable__control:checked~label.sk-toggleable__label {background-color: #d4ebff;}#sk-container-id-10 input.sk-hidden--visually {border: 0;clip: rect(1px 1px 1px 1px);clip: rect(1px, 1px, 1px, 1px);height: 1px;margin: -1px;overflow: hidden;padding: 0;position: absolute;width: 1px;}#sk-container-id-10 div.sk-estimator {font-family: monospace;background-color: #f0f8ff;border: 1px dotted black;border-radius: 0.25em;box-sizing: border-box;margin-bottom: 0.5em;}#sk-container-id-10 div.sk-estimator:hover {background-color: #d4ebff;}#sk-container-id-10 div.sk-parallel-item::after {content: \"\";width: 100%;border-bottom: 1px solid gray;flex-grow: 1;}#sk-container-id-10 div.sk-label:hover label.sk-toggleable__label {background-color: #d4ebff;}#sk-container-id-10 div.sk-serial::before {content: \"\";position: absolute;border-left: 1px solid gray;box-sizing: border-box;top: 0;bottom: 0;left: 50%;z-index: 0;}#sk-container-id-10 div.sk-serial {display: flex;flex-direction: column;align-items: center;background-color: white;padding-right: 0.2em;padding-left: 0.2em;position: relative;}#sk-container-id-10 div.sk-item {position: relative;z-index: 1;}#sk-container-id-10 div.sk-parallel {display: flex;align-items: stretch;justify-content: center;background-color: white;position: relative;}#sk-container-id-10 div.sk-item::before, #sk-container-id-10 div.sk-parallel-item::before {content: \"\";position: absolute;border-left: 1px solid gray;box-sizing: border-box;top: 0;bottom: 0;left: 50%;z-index: -1;}#sk-container-id-10 div.sk-parallel-item {display: flex;flex-direction: column;z-index: 1;position: relative;background-color: white;}#sk-container-id-10 div.sk-parallel-item:first-child::after {align-self: flex-end;width: 50%;}#sk-container-id-10 div.sk-parallel-item:last-child::after {align-self: flex-start;width: 50%;}#sk-container-id-10 div.sk-parallel-item:only-child::after {width: 0;}#sk-container-id-10 div.sk-dashed-wrapped {border: 1px dashed gray;margin: 0 0.4em 0.5em 0.4em;box-sizing: border-box;padding-bottom: 0.4em;background-color: white;}#sk-container-id-10 div.sk-label label {font-family: monospace;font-weight: bold;display: inline-block;line-height: 1.2em;}#sk-container-id-10 div.sk-label-container {text-align: center;}#sk-container-id-10 div.sk-container {/* jupyter's `normalize.less` sets `[hidden] { display: none; }` but bootstrap.min.css set `[hidden] { display: none !important; }` so we also need the `!important` here to be able to override the default hidden behavior on the sphinx rendered scikit-learn.org. See: https://github.com/scikit-learn/scikit-learn/issues/21755 */display: inline-block !important;position: relative;}#sk-container-id-10 div.sk-text-repr-fallback {display: none;}</style><div id=\"sk-container-id-10\" class=\"sk-top-container\"><div class=\"sk-text-repr-fallback\"><pre>LogisticRegression()</pre><b>In a Jupyter environment, please rerun this cell to show the HTML representation or trust the notebook. <br />On GitHub, the HTML representation is unable to render, please try loading this page with nbviewer.org.</b></div><div class=\"sk-container\" hidden><div class=\"sk-item\"><div class=\"sk-estimator sk-toggleable\"><input class=\"sk-toggleable__control sk-hidden--visually\" id=\"sk-estimator-id-10\" type=\"checkbox\" checked><label for=\"sk-estimator-id-10\" class=\"sk-toggleable__label sk-toggleable__label-arrow\">LogisticRegression</label><div class=\"sk-toggleable__content\"><pre>LogisticRegression()</pre></div></div></div></div></div>"
      ],
      "text/plain": [
       "LogisticRegression()"
      ]
     },
     "execution_count": 135,
     "metadata": {},
     "output_type": "execute_result"
    }
   ],
   "source": [
    "reg_o.fit(x_train, y_train)"
   ]
  },
  {
   "cell_type": "code",
   "execution_count": null,
   "metadata": {},
   "outputs": [],
   "source": [
    "# below is check for non numeric in total charges\n",
    "\n",
    "#non_numeric_values = df['total_charges'][pd.to_numeric(df['total_charges'], errors='coerce').isna()]\n",
    "#print(non_numeric_values)"
   ]
  },
  {
   "cell_type": "code",
   "execution_count": 136,
   "metadata": {},
   "outputs": [],
   "source": [
    "y_pred = reg_o.predict(x_train)"
   ]
  },
  {
   "cell_type": "code",
   "execution_count": 137,
   "metadata": {},
   "outputs": [],
   "source": [
    "y_pred_proba = reg_o.predict_proba(x_train)"
   ]
  },
  {
   "cell_type": "code",
   "execution_count": 25,
   "metadata": {},
   "outputs": [
    {
     "name": "stdout",
     "output_type": "stream",
     "text": [
      "Accuracy of Log. Reg. object on train set: 0.803\n"
     ]
    }
   ],
   "source": []
  },
  {
   "cell_type": "code",
   "execution_count": 138,
   "metadata": {},
   "outputs": [
    {
     "name": "stdout",
     "output_type": "stream",
     "text": [
      "Accuracy of Log. Reg. object on train set: 0.803\n",
      "              precision    recall  f1-score   support\n",
      "\n",
      "           0       0.84      0.90      0.87      3097\n",
      "           1       0.66      0.54      0.59      1121\n",
      "\n",
      "    accuracy                           0.80      4218\n",
      "   macro avg       0.75      0.72      0.73      4218\n",
      "weighted avg       0.79      0.80      0.80      4218\n",
      "\n"
     ]
    }
   ],
   "source": [
    "print('Accuracy of Log. Reg. object on train set: {:.3f}'\n",
    "     .format(reg_o.score(x_train, y_train)))\n",
    "\n",
    "print(classification_report(y_train, y_pred))"
   ]
  },
  {
   "cell_type": "markdown",
   "metadata": {},
   "source": [
    "evaluate on validate"
   ]
  },
  {
   "cell_type": "code",
   "execution_count": 27,
   "metadata": {},
   "outputs": [],
   "source": [
    "y_pred = reg_o.predict(x_val)"
   ]
  },
  {
   "cell_type": "code",
   "execution_count": 28,
   "metadata": {},
   "outputs": [],
   "source": [
    "y_pred_proba = reg_o.predict_proba(x_val)"
   ]
  },
  {
   "cell_type": "code",
   "execution_count": 29,
   "metadata": {},
   "outputs": [
    {
     "name": "stdout",
     "output_type": "stream",
     "text": [
      "Accuracy of Log. Reg. object on train set: 0.796\n"
     ]
    }
   ],
   "source": [
    "print('Accuracy of Log. Reg. object on train set: {:.3f}'\n",
    "     .format(reg_o.score(x_val, y_val)))"
   ]
  },
  {
   "cell_type": "code",
   "execution_count": 30,
   "metadata": {},
   "outputs": [
    {
     "name": "stdout",
     "output_type": "stream",
     "text": [
      "              precision    recall  f1-score   support\n",
      "\n",
      "           0       0.84      0.89      0.86      1033\n",
      "           1       0.64      0.54      0.58       374\n",
      "\n",
      "    accuracy                           0.80      1407\n",
      "   macro avg       0.74      0.71      0.72      1407\n",
      "weighted avg       0.79      0.80      0.79      1407\n",
      "\n"
     ]
    }
   ],
   "source": [
    "print(classification_report(y_val, y_pred))"
   ]
  },
  {
   "cell_type": "markdown",
   "metadata": {},
   "source": [
    "evaluate on test"
   ]
  },
  {
   "cell_type": "code",
   "execution_count": 31,
   "metadata": {},
   "outputs": [],
   "source": [
    "y_pred = reg_o.predict(x_test)"
   ]
  },
  {
   "cell_type": "code",
   "execution_count": 32,
   "metadata": {},
   "outputs": [],
   "source": [
    "y_pred_proba = reg_o.predict_proba(x_test)"
   ]
  },
  {
   "cell_type": "code",
   "execution_count": 33,
   "metadata": {},
   "outputs": [
    {
     "name": "stdout",
     "output_type": "stream",
     "text": [
      "Accuracy of Log. Reg. object on train set: 0.810\n"
     ]
    }
   ],
   "source": [
    "print('Accuracy of Log. Reg. object on train set: {:.3f}'\n",
    "     .format(reg_o.score(x_test, y_test)))"
   ]
  },
  {
   "cell_type": "code",
   "execution_count": 34,
   "metadata": {},
   "outputs": [
    {
     "name": "stdout",
     "output_type": "stream",
     "text": [
      "              precision    recall  f1-score   support\n",
      "\n",
      "           0       0.85      0.89      0.87      1033\n",
      "           1       0.66      0.57      0.62       374\n",
      "\n",
      "    accuracy                           0.81      1407\n",
      "   macro avg       0.76      0.73      0.74      1407\n",
      "weighted avg       0.80      0.81      0.80      1407\n",
      "\n"
     ]
    }
   ],
   "source": [
    "print(classification_report(y_test, y_pred))"
   ]
  },
  {
   "cell_type": "markdown",
   "metadata": {},
   "source": [
    "## New model for assessing relationship of contract type to churn"
   ]
  },
  {
   "cell_type": "markdown",
   "metadata": {},
   "source": [
    "H<sub>0</sub> : Contract type unrelated to churn\n",
    "\n",
    "H<sub>A</sub> :Contract type is related to churn"
   ]
  },
  {
   "cell_type": "markdown",
   "metadata": {},
   "source": [
    "STEP 1 Graph it. # add mean line for churn rate as axial line #\n",
    "###### due to binary encoding the following graphs establish a relationship, but not linearity. handling the object d types and graphing elsewhere would be necc. "
   ]
  },
  {
   "cell_type": "code",
   "execution_count": 9,
   "metadata": {},
   "outputs": [
    {
     "data": {
      "image/png": "[encoded data removed]",
      "text/plain": [
       "<Figure size 640x480 with 1 Axes>"
      ]
     },
     "metadata": {},
     "output_type": "display_data"
    }
   ],
   "source": [
    "grouped_data = df.groupby('contract_type_One year')['churn_encoded'].mean()\n",
    "\n",
    "# Plotting the bar plot\n",
    "plt.bar(grouped_data.index, grouped_data)\n",
    "plt.xlabel('Contract Type One year')\n",
    "plt.ylabel('Churn Rate')\n",
    "plt.title('Churn Rate by Contract Type')\n",
    "plt.show()"
   ]
  },
  {
   "cell_type": "code",
   "execution_count": 10,
   "metadata": {},
   "outputs": [
    {
     "data": {
      "image/png": "[encoded data removed]",
      "text/plain": [
       "<Figure size 640x480 with 1 Axes>"
      ]
     },
     "metadata": {},
     "output_type": "display_data"
    }
   ],
   "source": [
    "grouped_data = df.groupby('contract_type_Two year')['churn_encoded'].mean()\n",
    "\n",
    "# Plotting the bar plot\n",
    "plt.bar(grouped_data.index, grouped_data)\n",
    "plt.xlabel('Contract Type Two year')\n",
    "plt.ylabel('Churn Rate')\n",
    "plt.title('Churn Rate by Contract Type')\n",
    "plt.show()"
   ]
  },
  {
   "cell_type": "code",
   "execution_count": 123,
   "metadata": {},
   "outputs": [
    {
     "name": "stdout",
     "output_type": "stream",
     "text": [
      "(4225, 3)\n",
      "(1409, 3)\n",
      "(1409, 3)\n"
     ]
    }
   ],
   "source": [
    "#X = df[['contract_type_One year', 'contract_type_Two year']]\n",
    "#y = df['churn_encoded']\n",
    "\n",
    "# Step 2: Split the data into training and testing sets\n",
    "#X_train, X_test, y_train, y_test = train_test_split(X, y, test_size=0.2, random_state=42)\n",
    "\n",
    "\n",
    "############\n",
    "# try drop all columns except specific\n",
    "df = df[['contract_type_One year', 'contract_type_Two year', 'churn_encoded']]\n",
    "\n",
    "############\n",
    "\n",
    "\n",
    "#my_train_test_split(df, target='churn_encoded')\n",
    "train, validate, test = my_train_test_split(df,'churn_encoded')\n",
    "print(train.shape)\n",
    "print(validate.shape)\n",
    "print(test.shape)\n",
    "# this split removes further objects from train,val, test for logistic regression error avoidance\n",
    "x_train = train.drop(columns=['churn_encoded']).dropna()\n",
    "y_train = train.churn_encoded.dropna()\n",
    "\n",
    "x_val = validate.drop(columns=['churn_encoded']).dropna()\n",
    "y_val = validate.churn_encoded\n",
    "\n",
    "x_test = test.drop(columns=['churn_encoded']).dropna()\n",
    "y_test = test.churn_encoded\n"
   ]
  },
  {
   "cell_type": "code",
   "execution_count": 124,
   "metadata": {},
   "outputs": [],
   "source": [
    "reg_o = LogisticRegression()"
   ]
  },
  {
   "cell_type": "code",
   "execution_count": 125,
   "metadata": {},
   "outputs": [
    {
     "data": {
      "text/html": [
       "<style>#sk-container-id-9 {color: black;background-color: white;}#sk-container-id-9 pre{padding: 0;}#sk-container-id-9 div.sk-toggleable {background-color: white;}#sk-container-id-9 label.sk-toggleable__label {cursor: pointer;display: block;width: 100%;margin-bottom: 0;padding: 0.3em;box-sizing: border-box;text-align: center;}#sk-container-id-9 label.sk-toggleable__label-arrow:before {content: \"▸\";float: left;margin-right: 0.25em;color: #696969;}#sk-container-id-9 label.sk-toggleable__label-arrow:hover:before {color: black;}#sk-container-id-9 div.sk-estimator:hover label.sk-toggleable__label-arrow:before {color: black;}#sk-container-id-9 div.sk-toggleable__content {max-height: 0;max-width: 0;overflow: hidden;text-align: left;background-color: #f0f8ff;}#sk-container-id-9 div.sk-toggleable__content pre {margin: 0.2em;color: black;border-radius: 0.25em;background-color: #f0f8ff;}#sk-container-id-9 input.sk-toggleable__control:checked~div.sk-toggleable__content {max-height: 200px;max-width: 100%;overflow: auto;}#sk-container-id-9 input.sk-toggleable__control:checked~label.sk-toggleable__label-arrow:before {content: \"▾\";}#sk-container-id-9 div.sk-estimator input.sk-toggleable__control:checked~label.sk-toggleable__label {background-color: #d4ebff;}#sk-container-id-9 div.sk-label input.sk-toggleable__control:checked~label.sk-toggleable__label {background-color: #d4ebff;}#sk-container-id-9 input.sk-hidden--visually {border: 0;clip: rect(1px 1px 1px 1px);clip: rect(1px, 1px, 1px, 1px);height: 1px;margin: -1px;overflow: hidden;padding: 0;position: absolute;width: 1px;}#sk-container-id-9 div.sk-estimator {font-family: monospace;background-color: #f0f8ff;border: 1px dotted black;border-radius: 0.25em;box-sizing: border-box;margin-bottom: 0.5em;}#sk-container-id-9 div.sk-estimator:hover {background-color: #d4ebff;}#sk-container-id-9 div.sk-parallel-item::after {content: \"\";width: 100%;border-bottom: 1px solid gray;flex-grow: 1;}#sk-container-id-9 div.sk-label:hover label.sk-toggleable__label {background-color: #d4ebff;}#sk-container-id-9 div.sk-serial::before {content: \"\";position: absolute;border-left: 1px solid gray;box-sizing: border-box;top: 0;bottom: 0;left: 50%;z-index: 0;}#sk-container-id-9 div.sk-serial {display: flex;flex-direction: column;align-items: center;background-color: white;padding-right: 0.2em;padding-left: 0.2em;position: relative;}#sk-container-id-9 div.sk-item {position: relative;z-index: 1;}#sk-container-id-9 div.sk-parallel {display: flex;align-items: stretch;justify-content: center;background-color: white;position: relative;}#sk-container-id-9 div.sk-item::before, #sk-container-id-9 div.sk-parallel-item::before {content: \"\";position: absolute;border-left: 1px solid gray;box-sizing: border-box;top: 0;bottom: 0;left: 50%;z-index: -1;}#sk-container-id-9 div.sk-parallel-item {display: flex;flex-direction: column;z-index: 1;position: relative;background-color: white;}#sk-container-id-9 div.sk-parallel-item:first-child::after {align-self: flex-end;width: 50%;}#sk-container-id-9 div.sk-parallel-item:last-child::after {align-self: flex-start;width: 50%;}#sk-container-id-9 div.sk-parallel-item:only-child::after {width: 0;}#sk-container-id-9 div.sk-dashed-wrapped {border: 1px dashed gray;margin: 0 0.4em 0.5em 0.4em;box-sizing: border-box;padding-bottom: 0.4em;background-color: white;}#sk-container-id-9 div.sk-label label {font-family: monospace;font-weight: bold;display: inline-block;line-height: 1.2em;}#sk-container-id-9 div.sk-label-container {text-align: center;}#sk-container-id-9 div.sk-container {/* jupyter's `normalize.less` sets `[hidden] { display: none; }` but bootstrap.min.css set `[hidden] { display: none !important; }` so we also need the `!important` here to be able to override the default hidden behavior on the sphinx rendered scikit-learn.org. See: https://github.com/scikit-learn/scikit-learn/issues/21755 */display: inline-block !important;position: relative;}#sk-container-id-9 div.sk-text-repr-fallback {display: none;}</style><div id=\"sk-container-id-9\" class=\"sk-top-container\"><div class=\"sk-text-repr-fallback\"><pre>LogisticRegression()</pre><b>In a Jupyter environment, please rerun this cell to show the HTML representation or trust the notebook. <br />On GitHub, the HTML representation is unable to render, please try loading this page with nbviewer.org.</b></div><div class=\"sk-container\" hidden><div class=\"sk-item\"><div class=\"sk-estimator sk-toggleable\"><input class=\"sk-toggleable__control sk-hidden--visually\" id=\"sk-estimator-id-9\" type=\"checkbox\" checked><label for=\"sk-estimator-id-9\" class=\"sk-toggleable__label sk-toggleable__label-arrow\">LogisticRegression</label><div class=\"sk-toggleable__content\"><pre>LogisticRegression()</pre></div></div></div></div></div>"
      ],
      "text/plain": [
       "LogisticRegression()"
      ]
     },
     "execution_count": 125,
     "metadata": {},
     "output_type": "execute_result"
    }
   ],
   "source": [
    "reg_o.fit(x_train, y_train)"
   ]
  },
  {
   "cell_type": "code",
   "execution_count": 126,
   "metadata": {},
   "outputs": [],
   "source": [
    "y_pred = reg_o.predict(x_train)"
   ]
  },
  {
   "cell_type": "code",
   "execution_count": 127,
   "metadata": {},
   "outputs": [],
   "source": [
    "y_pred_proba = reg_o.predict_proba(x_train)"
   ]
  },
  {
   "cell_type": "code",
   "execution_count": 128,
   "metadata": {},
   "outputs": [
    {
     "name": "stdout",
     "output_type": "stream",
     "text": [
      "Accuracy of Log. Reg. object on train set: 0.735\n",
      "              precision    recall  f1-score   support\n",
      "\n",
      "           0       0.73      1.00      0.85      3104\n",
      "           1       0.00      0.00      0.00      1121\n",
      "\n",
      "    accuracy                           0.73      4225\n",
      "   macro avg       0.37      0.50      0.42      4225\n",
      "weighted avg       0.54      0.73      0.62      4225\n",
      "\n"
     ]
    }
   ],
   "source": [
    "print('Accuracy of Log. Reg. object on train set: {:.3f}'\n",
    "     .format(reg_o.score(x_train, y_train)))\n",
    "\n",
    "\n",
    "print(classification_report(y_train, y_pred))"
   ]
  },
  {
   "cell_type": "markdown",
   "metadata": {},
   "source": [
    "regression model above stinks in churn prediction. trying chi squared"
   ]
  },
  {
   "cell_type": "markdown",
   "metadata": {},
   "source": [
    "###### chi2"
   ]
  },
  {
   "cell_type": "code",
   "execution_count": 97,
   "metadata": {},
   "outputs": [],
   "source": [
    "df = prep_telco()"
   ]
  },
  {
   "cell_type": "code",
   "execution_count": 105,
   "metadata": {},
   "outputs": [],
   "source": [
    "from scipy.stats import chi2_contingency"
   ]
  },
  {
   "cell_type": "code",
   "execution_count": 106,
   "metadata": {},
   "outputs": [
    {
     "name": "stdout",
     "output_type": "stream",
     "text": [
      "Chi-squared statistic: 1184.5965720837926\n",
      "P-value: 5.863038300673391e-258\n",
      "Degrees of freedom: 2\n",
      "Expected frequencies:\n",
      " [[1082.11018032  390.88981968]\n",
      " [1245.198069    449.801931  ]\n",
      " [2846.69175067 1028.30824933]]\n"
     ]
    }
   ],
   "source": [
    "\n",
    "# create fx to undo binary to fit to chi squared\n",
    "df['contract_type'] = df[['contract_type_One year', 'contract_type_Two year']].apply(lambda x: 'contract_type_One year' if x['contract_type_One year'] == 1 else ('contract_type_Two year' if x['contract_type_Two year'] == 1 else 'month-to-month'), axis=1)\n",
    "\n",
    "# crosstab contract types and create contigency table with target churn\n",
    "contingency_table = pd.crosstab(df['contract_type'], df['churn_encoded'])\n",
    "\n",
    "# compute and display values of test\n",
    "chi2, p_value, dof, expected = chi2_contingency(contingency_table)\n",
    "print(\"Chi-squared statistic:\", chi2)\n",
    "print(\"P-value:\", p_value)\n",
    "print(\"Degrees of freedom:\", dof)\n",
    "print(\"Expected frequencies:\\n\", expected)"
   ]
  },
  {
   "cell_type": "markdown",
   "metadata": {},
   "source": [
    "Based on these results, we can conclude that there is a significant relationship between the 'contract_type' and 'churn_encoded' variables. The p-value being close to zero suggests that the type of contract is associated with the likelihood of churn. therefore we reject the null."
   ]
  },
  {
   "cell_type": "markdown",
   "metadata": {},
   "source": [
    "## New model for assessing relationship of single households (m&f) w/dependents to churn"
   ]
  },
  {
   "cell_type": "markdown",
   "metadata": {},
   "source": [
    "H<sub>0</sub> : Condition of single (M&F) household w/dependents unrelated to churn.\n",
    "\n",
    "H<sub>A</sub> : Condition of single (M&F) household w/dependents related to churn."
   ]
  },
  {
   "cell_type": "code",
   "execution_count": 11,
   "metadata": {},
   "outputs": [
    {
     "data": {
      "image/png": "[encoded data removed]",
      "text/plain": [
       "<Figure size 640x480 with 1 Axes>"
      ]
     },
     "metadata": {},
     "output_type": "display_data"
    }
   ],
   "source": [
    "df_g = df[(df['partner_encoded'] == 0) & (df['dependents_encoded'] == 1)]\n",
    "grouped_data = df_g.groupby('contract_type_One year')['churn_encoded'].mean()\n",
    "\n",
    "# Plotting the bar plot\n",
    "plt.bar(grouped_data.index, grouped_data)\n",
    "plt.xlabel('Contract Type One year')\n",
    "plt.ylabel('Churn Rate')\n",
    "plt.title('Churn Rate by Contract Type (Customers without Partners and with Dependents)')\n",
    "plt.show()"
   ]
  },
  {
   "cell_type": "code",
   "execution_count": 12,
   "metadata": {},
   "outputs": [
    {
     "data": {
      "image/png": "[encoded data removed]",
      "text/plain": [
       "<Figure size 640x480 with 1 Axes>"
      ]
     },
     "metadata": {},
     "output_type": "display_data"
    }
   ],
   "source": [
    "df_g = df[(df['partner_encoded'] == 0) & (df['dependents_encoded'] == 1)]\n",
    "grouped_data = df_g.groupby('contract_type_Two year')['churn_encoded'].mean()\n",
    "\n",
    "# Plotting the bar plot\n",
    "plt.bar(grouped_data.index, grouped_data)\n",
    "plt.xlabel('Contract Type Two year')\n",
    "plt.ylabel('Churn Rate')\n",
    "plt.title('Churn Rate by Contract Type (Customers without Partners and with Dependents)')\n",
    "plt.show()"
   ]
  },
  {
   "cell_type": "markdown",
   "metadata": {},
   "source": [
    "###### logistic regression"
   ]
  },
  {
   "cell_type": "code",
   "execution_count": 205,
   "metadata": {},
   "outputs": [
    {
     "data": {
      "text/html": [
       "<div>\n",
       "<style scoped>\n",
       "    .dataframe tbody tr th:only-of-type {\n",
       "        vertical-align: middle;\n",
       "    }\n",
       "\n",
       "    .dataframe tbody tr th {\n",
       "        vertical-align: top;\n",
       "    }\n",
       "\n",
       "    .dataframe thead th {\n",
       "        text-align: right;\n",
       "    }\n",
       "</style>\n",
       "<table border=\"1\" class=\"dataframe\">\n",
       "  <thead>\n",
       "    <tr style=\"text-align: right;\">\n",
       "      <th></th>\n",
       "      <th>customer_id</th>\n",
       "      <th>senior_citizen</th>\n",
       "      <th>tenure</th>\n",
       "      <th>monthly_charges</th>\n",
       "      <th>total_charges</th>\n",
       "      <th>gender_encoded</th>\n",
       "      <th>partner_encoded</th>\n",
       "      <th>dependents_encoded</th>\n",
       "      <th>phone_service_encoded</th>\n",
       "      <th>paperless_billing_encoded</th>\n",
       "      <th>...</th>\n",
       "      <th>streaming_tv_Yes</th>\n",
       "      <th>streaming_movies_No internet service</th>\n",
       "      <th>streaming_movies_Yes</th>\n",
       "      <th>contract_type_One year</th>\n",
       "      <th>contract_type_Two year</th>\n",
       "      <th>internet_service_type_Fiber optic</th>\n",
       "      <th>internet_service_type_None</th>\n",
       "      <th>payment_type_Credit card (automatic)</th>\n",
       "      <th>payment_type_Electronic check</th>\n",
       "      <th>payment_type_Mailed check</th>\n",
       "    </tr>\n",
       "  </thead>\n",
       "  <tbody>\n",
       "    <tr>\n",
       "      <th>0</th>\n",
       "      <td>0002-ORFBO</td>\n",
       "      <td>0</td>\n",
       "      <td>9</td>\n",
       "      <td>65.60</td>\n",
       "      <td>593.3</td>\n",
       "      <td>1</td>\n",
       "      <td>1</td>\n",
       "      <td>1</td>\n",
       "      <td>1</td>\n",
       "      <td>1</td>\n",
       "      <td>...</td>\n",
       "      <td>1</td>\n",
       "      <td>0</td>\n",
       "      <td>0</td>\n",
       "      <td>1</td>\n",
       "      <td>0</td>\n",
       "      <td>0</td>\n",
       "      <td>0</td>\n",
       "      <td>0</td>\n",
       "      <td>0</td>\n",
       "      <td>1</td>\n",
       "    </tr>\n",
       "    <tr>\n",
       "      <th>1</th>\n",
       "      <td>0003-MKNFE</td>\n",
       "      <td>0</td>\n",
       "      <td>9</td>\n",
       "      <td>59.90</td>\n",
       "      <td>542.4</td>\n",
       "      <td>0</td>\n",
       "      <td>0</td>\n",
       "      <td>0</td>\n",
       "      <td>1</td>\n",
       "      <td>0</td>\n",
       "      <td>...</td>\n",
       "      <td>0</td>\n",
       "      <td>0</td>\n",
       "      <td>1</td>\n",
       "      <td>0</td>\n",
       "      <td>0</td>\n",
       "      <td>0</td>\n",
       "      <td>0</td>\n",
       "      <td>0</td>\n",
       "      <td>0</td>\n",
       "      <td>1</td>\n",
       "    </tr>\n",
       "    <tr>\n",
       "      <th>2</th>\n",
       "      <td>0004-TLHLJ</td>\n",
       "      <td>0</td>\n",
       "      <td>4</td>\n",
       "      <td>73.90</td>\n",
       "      <td>280.85</td>\n",
       "      <td>0</td>\n",
       "      <td>0</td>\n",
       "      <td>0</td>\n",
       "      <td>1</td>\n",
       "      <td>1</td>\n",
       "      <td>...</td>\n",
       "      <td>0</td>\n",
       "      <td>0</td>\n",
       "      <td>0</td>\n",
       "      <td>0</td>\n",
       "      <td>0</td>\n",
       "      <td>1</td>\n",
       "      <td>0</td>\n",
       "      <td>0</td>\n",
       "      <td>1</td>\n",
       "      <td>0</td>\n",
       "    </tr>\n",
       "    <tr>\n",
       "      <th>3</th>\n",
       "      <td>0011-IGKFF</td>\n",
       "      <td>1</td>\n",
       "      <td>13</td>\n",
       "      <td>98.00</td>\n",
       "      <td>1237.85</td>\n",
       "      <td>0</td>\n",
       "      <td>1</td>\n",
       "      <td>0</td>\n",
       "      <td>1</td>\n",
       "      <td>1</td>\n",
       "      <td>...</td>\n",
       "      <td>1</td>\n",
       "      <td>0</td>\n",
       "      <td>1</td>\n",
       "      <td>0</td>\n",
       "      <td>0</td>\n",
       "      <td>1</td>\n",
       "      <td>0</td>\n",
       "      <td>0</td>\n",
       "      <td>1</td>\n",
       "      <td>0</td>\n",
       "    </tr>\n",
       "    <tr>\n",
       "      <th>4</th>\n",
       "      <td>0013-EXCHZ</td>\n",
       "      <td>1</td>\n",
       "      <td>3</td>\n",
       "      <td>83.90</td>\n",
       "      <td>267.4</td>\n",
       "      <td>1</td>\n",
       "      <td>1</td>\n",
       "      <td>0</td>\n",
       "      <td>1</td>\n",
       "      <td>1</td>\n",
       "      <td>...</td>\n",
       "      <td>1</td>\n",
       "      <td>0</td>\n",
       "      <td>0</td>\n",
       "      <td>0</td>\n",
       "      <td>0</td>\n",
       "      <td>1</td>\n",
       "      <td>0</td>\n",
       "      <td>0</td>\n",
       "      <td>0</td>\n",
       "      <td>1</td>\n",
       "    </tr>\n",
       "    <tr>\n",
       "      <th>...</th>\n",
       "      <td>...</td>\n",
       "      <td>...</td>\n",
       "      <td>...</td>\n",
       "      <td>...</td>\n",
       "      <td>...</td>\n",
       "      <td>...</td>\n",
       "      <td>...</td>\n",
       "      <td>...</td>\n",
       "      <td>...</td>\n",
       "      <td>...</td>\n",
       "      <td>...</td>\n",
       "      <td>...</td>\n",
       "      <td>...</td>\n",
       "      <td>...</td>\n",
       "      <td>...</td>\n",
       "      <td>...</td>\n",
       "      <td>...</td>\n",
       "      <td>...</td>\n",
       "      <td>...</td>\n",
       "      <td>...</td>\n",
       "      <td>...</td>\n",
       "    </tr>\n",
       "    <tr>\n",
       "      <th>7038</th>\n",
       "      <td>9987-LUTYD</td>\n",
       "      <td>0</td>\n",
       "      <td>13</td>\n",
       "      <td>55.15</td>\n",
       "      <td>742.9</td>\n",
       "      <td>1</td>\n",
       "      <td>0</td>\n",
       "      <td>0</td>\n",
       "      <td>1</td>\n",
       "      <td>0</td>\n",
       "      <td>...</td>\n",
       "      <td>0</td>\n",
       "      <td>0</td>\n",
       "      <td>0</td>\n",
       "      <td>1</td>\n",
       "      <td>0</td>\n",
       "      <td>0</td>\n",
       "      <td>0</td>\n",
       "      <td>0</td>\n",
       "      <td>0</td>\n",
       "      <td>1</td>\n",
       "    </tr>\n",
       "    <tr>\n",
       "      <th>7039</th>\n",
       "      <td>9992-RRAMN</td>\n",
       "      <td>0</td>\n",
       "      <td>22</td>\n",
       "      <td>85.10</td>\n",
       "      <td>1873.7</td>\n",
       "      <td>0</td>\n",
       "      <td>1</td>\n",
       "      <td>0</td>\n",
       "      <td>1</td>\n",
       "      <td>1</td>\n",
       "      <td>...</td>\n",
       "      <td>0</td>\n",
       "      <td>0</td>\n",
       "      <td>1</td>\n",
       "      <td>0</td>\n",
       "      <td>0</td>\n",
       "      <td>1</td>\n",
       "      <td>0</td>\n",
       "      <td>0</td>\n",
       "      <td>1</td>\n",
       "      <td>0</td>\n",
       "    </tr>\n",
       "    <tr>\n",
       "      <th>7040</th>\n",
       "      <td>9992-UJOEL</td>\n",
       "      <td>0</td>\n",
       "      <td>2</td>\n",
       "      <td>50.30</td>\n",
       "      <td>92.75</td>\n",
       "      <td>0</td>\n",
       "      <td>0</td>\n",
       "      <td>0</td>\n",
       "      <td>1</td>\n",
       "      <td>1</td>\n",
       "      <td>...</td>\n",
       "      <td>0</td>\n",
       "      <td>0</td>\n",
       "      <td>0</td>\n",
       "      <td>0</td>\n",
       "      <td>0</td>\n",
       "      <td>0</td>\n",
       "      <td>0</td>\n",
       "      <td>0</td>\n",
       "      <td>0</td>\n",
       "      <td>1</td>\n",
       "    </tr>\n",
       "    <tr>\n",
       "      <th>7041</th>\n",
       "      <td>9993-LHIEB</td>\n",
       "      <td>0</td>\n",
       "      <td>67</td>\n",
       "      <td>67.85</td>\n",
       "      <td>4627.65</td>\n",
       "      <td>0</td>\n",
       "      <td>1</td>\n",
       "      <td>1</td>\n",
       "      <td>1</td>\n",
       "      <td>0</td>\n",
       "      <td>...</td>\n",
       "      <td>0</td>\n",
       "      <td>0</td>\n",
       "      <td>1</td>\n",
       "      <td>0</td>\n",
       "      <td>1</td>\n",
       "      <td>0</td>\n",
       "      <td>0</td>\n",
       "      <td>0</td>\n",
       "      <td>0</td>\n",
       "      <td>1</td>\n",
       "    </tr>\n",
       "    <tr>\n",
       "      <th>7042</th>\n",
       "      <td>9995-HOTOH</td>\n",
       "      <td>0</td>\n",
       "      <td>63</td>\n",
       "      <td>59.00</td>\n",
       "      <td>3707.6</td>\n",
       "      <td>0</td>\n",
       "      <td>1</td>\n",
       "      <td>1</td>\n",
       "      <td>0</td>\n",
       "      <td>0</td>\n",
       "      <td>...</td>\n",
       "      <td>1</td>\n",
       "      <td>0</td>\n",
       "      <td>1</td>\n",
       "      <td>0</td>\n",
       "      <td>1</td>\n",
       "      <td>0</td>\n",
       "      <td>0</td>\n",
       "      <td>0</td>\n",
       "      <td>1</td>\n",
       "      <td>0</td>\n",
       "    </tr>\n",
       "  </tbody>\n",
       "</table>\n",
       "<p>7043 rows × 32 columns</p>\n",
       "</div>"
      ],
      "text/plain": [
       "     customer_id  senior_citizen  tenure  monthly_charges total_charges  \\\n",
       "0     0002-ORFBO               0       9            65.60         593.3   \n",
       "1     0003-MKNFE               0       9            59.90         542.4   \n",
       "2     0004-TLHLJ               0       4            73.90        280.85   \n",
       "3     0011-IGKFF               1      13            98.00       1237.85   \n",
       "4     0013-EXCHZ               1       3            83.90         267.4   \n",
       "...          ...             ...     ...              ...           ...   \n",
       "7038  9987-LUTYD               0      13            55.15         742.9   \n",
       "7039  9992-RRAMN               0      22            85.10        1873.7   \n",
       "7040  9992-UJOEL               0       2            50.30         92.75   \n",
       "7041  9993-LHIEB               0      67            67.85       4627.65   \n",
       "7042  9995-HOTOH               0      63            59.00        3707.6   \n",
       "\n",
       "      gender_encoded  partner_encoded  dependents_encoded  \\\n",
       "0                  1                1                   1   \n",
       "1                  0                0                   0   \n",
       "2                  0                0                   0   \n",
       "3                  0                1                   0   \n",
       "4                  1                1                   0   \n",
       "...              ...              ...                 ...   \n",
       "7038               1                0                   0   \n",
       "7039               0                1                   0   \n",
       "7040               0                0                   0   \n",
       "7041               0                1                   1   \n",
       "7042               0                1                   1   \n",
       "\n",
       "      phone_service_encoded  paperless_billing_encoded  ...  streaming_tv_Yes  \\\n",
       "0                         1                          1  ...                 1   \n",
       "1                         1                          0  ...                 0   \n",
       "2                         1                          1  ...                 0   \n",
       "3                         1                          1  ...                 1   \n",
       "4                         1                          1  ...                 1   \n",
       "...                     ...                        ...  ...               ...   \n",
       "7038                      1                          0  ...                 0   \n",
       "7039                      1                          1  ...                 0   \n",
       "7040                      1                          1  ...                 0   \n",
       "7041                      1                          0  ...                 0   \n",
       "7042                      0                          0  ...                 1   \n",
       "\n",
       "      streaming_movies_No internet service  streaming_movies_Yes  \\\n",
       "0                                        0                     0   \n",
       "1                                        0                     1   \n",
       "2                                        0                     0   \n",
       "3                                        0                     1   \n",
       "4                                        0                     0   \n",
       "...                                    ...                   ...   \n",
       "7038                                     0                     0   \n",
       "7039                                     0                     1   \n",
       "7040                                     0                     0   \n",
       "7041                                     0                     1   \n",
       "7042                                     0                     1   \n",
       "\n",
       "      contract_type_One year  contract_type_Two year  \\\n",
       "0                          1                       0   \n",
       "1                          0                       0   \n",
       "2                          0                       0   \n",
       "3                          0                       0   \n",
       "4                          0                       0   \n",
       "...                      ...                     ...   \n",
       "7038                       1                       0   \n",
       "7039                       0                       0   \n",
       "7040                       0                       0   \n",
       "7041                       0                       1   \n",
       "7042                       0                       1   \n",
       "\n",
       "      internet_service_type_Fiber optic  internet_service_type_None  \\\n",
       "0                                     0                           0   \n",
       "1                                     0                           0   \n",
       "2                                     1                           0   \n",
       "3                                     1                           0   \n",
       "4                                     1                           0   \n",
       "...                                 ...                         ...   \n",
       "7038                                  0                           0   \n",
       "7039                                  1                           0   \n",
       "7040                                  0                           0   \n",
       "7041                                  0                           0   \n",
       "7042                                  0                           0   \n",
       "\n",
       "      payment_type_Credit card (automatic)  payment_type_Electronic check  \\\n",
       "0                                        0                              0   \n",
       "1                                        0                              0   \n",
       "2                                        0                              1   \n",
       "3                                        0                              1   \n",
       "4                                        0                              0   \n",
       "...                                    ...                            ...   \n",
       "7038                                     0                              0   \n",
       "7039                                     0                              1   \n",
       "7040                                     0                              0   \n",
       "7041                                     0                              0   \n",
       "7042                                     0                              1   \n",
       "\n",
       "      payment_type_Mailed check  \n",
       "0                             1  \n",
       "1                             1  \n",
       "2                             0  \n",
       "3                             0  \n",
       "4                             1  \n",
       "...                         ...  \n",
       "7038                          1  \n",
       "7039                          0  \n",
       "7040                          1  \n",
       "7041                          1  \n",
       "7042                          0  \n",
       "\n",
       "[7043 rows x 32 columns]"
      ]
     },
     "execution_count": 205,
     "metadata": {},
     "output_type": "execute_result"
    }
   ],
   "source": [
    "df"
   ]
  },
  {
   "cell_type": "code",
   "execution_count": 209,
   "metadata": {},
   "outputs": [
    {
     "name": "stdout",
     "output_type": "stream",
     "text": [
      "(216, 4)\n",
      "(72, 4)\n",
      "(73, 4)\n"
     ]
    }
   ],
   "source": [
    "# edit df to contain only the relevant  and (f)iltered columns\n",
    "df_f = df[(df['partner_encoded'] == 0) & (df['dependents_encoded'] == 1)]\n",
    "df_f = df_f[['gender_encoded', 'partner_encoded', 'dependents_encoded', 'churn_encoded']]\n",
    "\n",
    "############\n",
    "\n",
    "\n",
    "train, validate, test = my_train_test_split(df_f,'churn_encoded')\n",
    "print(train.shape)\n",
    "print(validate.shape)\n",
    "print(test.shape)\n",
    "# this split removes further objects from train,val, test for logistic regression error avoidance\n",
    "x_train = train.drop(columns=['churn_encoded']).dropna()\n",
    "y_train = train.churn_encoded.dropna()\n",
    "\n",
    "x_val = validate.drop(columns=['churn_encoded']).dropna()\n",
    "y_val = validate.churn_encoded\n",
    "\n",
    "x_test = test.drop(columns=['churn_encoded']).dropna()\n",
    "y_test = test.churn_encoded\n"
   ]
  },
  {
   "cell_type": "code",
   "execution_count": 118,
   "metadata": {},
   "outputs": [],
   "source": [
    "reg_o = LogisticRegression()"
   ]
  },
  {
   "cell_type": "code",
   "execution_count": 119,
   "metadata": {},
   "outputs": [
    {
     "data": {
      "text/html": [
       "<style>#sk-container-id-8 {color: black;background-color: white;}#sk-container-id-8 pre{padding: 0;}#sk-container-id-8 div.sk-toggleable {background-color: white;}#sk-container-id-8 label.sk-toggleable__label {cursor: pointer;display: block;width: 100%;margin-bottom: 0;padding: 0.3em;box-sizing: border-box;text-align: center;}#sk-container-id-8 label.sk-toggleable__label-arrow:before {content: \"▸\";float: left;margin-right: 0.25em;color: #696969;}#sk-container-id-8 label.sk-toggleable__label-arrow:hover:before {color: black;}#sk-container-id-8 div.sk-estimator:hover label.sk-toggleable__label-arrow:before {color: black;}#sk-container-id-8 div.sk-toggleable__content {max-height: 0;max-width: 0;overflow: hidden;text-align: left;background-color: #f0f8ff;}#sk-container-id-8 div.sk-toggleable__content pre {margin: 0.2em;color: black;border-radius: 0.25em;background-color: #f0f8ff;}#sk-container-id-8 input.sk-toggleable__control:checked~div.sk-toggleable__content {max-height: 200px;max-width: 100%;overflow: auto;}#sk-container-id-8 input.sk-toggleable__control:checked~label.sk-toggleable__label-arrow:before {content: \"▾\";}#sk-container-id-8 div.sk-estimator input.sk-toggleable__control:checked~label.sk-toggleable__label {background-color: #d4ebff;}#sk-container-id-8 div.sk-label input.sk-toggleable__control:checked~label.sk-toggleable__label {background-color: #d4ebff;}#sk-container-id-8 input.sk-hidden--visually {border: 0;clip: rect(1px 1px 1px 1px);clip: rect(1px, 1px, 1px, 1px);height: 1px;margin: -1px;overflow: hidden;padding: 0;position: absolute;width: 1px;}#sk-container-id-8 div.sk-estimator {font-family: monospace;background-color: #f0f8ff;border: 1px dotted black;border-radius: 0.25em;box-sizing: border-box;margin-bottom: 0.5em;}#sk-container-id-8 div.sk-estimator:hover {background-color: #d4ebff;}#sk-container-id-8 div.sk-parallel-item::after {content: \"\";width: 100%;border-bottom: 1px solid gray;flex-grow: 1;}#sk-container-id-8 div.sk-label:hover label.sk-toggleable__label {background-color: #d4ebff;}#sk-container-id-8 div.sk-serial::before {content: \"\";position: absolute;border-left: 1px solid gray;box-sizing: border-box;top: 0;bottom: 0;left: 50%;z-index: 0;}#sk-container-id-8 div.sk-serial {display: flex;flex-direction: column;align-items: center;background-color: white;padding-right: 0.2em;padding-left: 0.2em;position: relative;}#sk-container-id-8 div.sk-item {position: relative;z-index: 1;}#sk-container-id-8 div.sk-parallel {display: flex;align-items: stretch;justify-content: center;background-color: white;position: relative;}#sk-container-id-8 div.sk-item::before, #sk-container-id-8 div.sk-parallel-item::before {content: \"\";position: absolute;border-left: 1px solid gray;box-sizing: border-box;top: 0;bottom: 0;left: 50%;z-index: -1;}#sk-container-id-8 div.sk-parallel-item {display: flex;flex-direction: column;z-index: 1;position: relative;background-color: white;}#sk-container-id-8 div.sk-parallel-item:first-child::after {align-self: flex-end;width: 50%;}#sk-container-id-8 div.sk-parallel-item:last-child::after {align-self: flex-start;width: 50%;}#sk-container-id-8 div.sk-parallel-item:only-child::after {width: 0;}#sk-container-id-8 div.sk-dashed-wrapped {border: 1px dashed gray;margin: 0 0.4em 0.5em 0.4em;box-sizing: border-box;padding-bottom: 0.4em;background-color: white;}#sk-container-id-8 div.sk-label label {font-family: monospace;font-weight: bold;display: inline-block;line-height: 1.2em;}#sk-container-id-8 div.sk-label-container {text-align: center;}#sk-container-id-8 div.sk-container {/* jupyter's `normalize.less` sets `[hidden] { display: none; }` but bootstrap.min.css set `[hidden] { display: none !important; }` so we also need the `!important` here to be able to override the default hidden behavior on the sphinx rendered scikit-learn.org. See: https://github.com/scikit-learn/scikit-learn/issues/21755 */display: inline-block !important;position: relative;}#sk-container-id-8 div.sk-text-repr-fallback {display: none;}</style><div id=\"sk-container-id-8\" class=\"sk-top-container\"><div class=\"sk-text-repr-fallback\"><pre>LogisticRegression()</pre><b>In a Jupyter environment, please rerun this cell to show the HTML representation or trust the notebook. <br />On GitHub, the HTML representation is unable to render, please try loading this page with nbviewer.org.</b></div><div class=\"sk-container\" hidden><div class=\"sk-item\"><div class=\"sk-estimator sk-toggleable\"><input class=\"sk-toggleable__control sk-hidden--visually\" id=\"sk-estimator-id-8\" type=\"checkbox\" checked><label for=\"sk-estimator-id-8\" class=\"sk-toggleable__label sk-toggleable__label-arrow\">LogisticRegression</label><div class=\"sk-toggleable__content\"><pre>LogisticRegression()</pre></div></div></div></div></div>"
      ],
      "text/plain": [
       "LogisticRegression()"
      ]
     },
     "execution_count": 119,
     "metadata": {},
     "output_type": "execute_result"
    }
   ],
   "source": [
    "reg_o.fit(x_train, y_train)"
   ]
  },
  {
   "cell_type": "code",
   "execution_count": 120,
   "metadata": {},
   "outputs": [],
   "source": [
    "y_pred = reg_o.predict(x_train)"
   ]
  },
  {
   "cell_type": "code",
   "execution_count": 121,
   "metadata": {},
   "outputs": [],
   "source": [
    "y_pred_proba = reg_o.predict_proba(x_train)"
   ]
  },
  {
   "cell_type": "code",
   "execution_count": 122,
   "metadata": {},
   "outputs": [
    {
     "name": "stdout",
     "output_type": "stream",
     "text": [
      "Accuracy of Log. Reg. object on train set: 0.787\n",
      "              precision    recall  f1-score   support\n",
      "\n",
      "           0       0.79      1.00      0.88       170\n",
      "           1       0.00      0.00      0.00        46\n",
      "\n",
      "    accuracy                           0.79       216\n",
      "   macro avg       0.39      0.50      0.44       216\n",
      "weighted avg       0.62      0.79      0.69       216\n",
      "\n"
     ]
    }
   ],
   "source": [
    "print('Accuracy of Log. Reg. object on train set: {:.3f}'\n",
    "     .format(reg_o.score(x_train, y_train)))\n",
    "\n",
    "\n",
    "print(classification_report(y_train, y_pred))"
   ]
  },
  {
   "cell_type": "markdown",
   "metadata": {},
   "source": [
    "##### chi x2"
   ]
  },
  {
   "cell_type": "code",
   "execution_count": 208,
   "metadata": {},
   "outputs": [
    {
     "name": "stdout",
     "output_type": "stream",
     "text": [
      "Chi-squared statistic: 0.0\n",
      "P-value: 1.0\n",
      "Degrees of freedom: 0\n",
      "Expected frequencies:\n",
      " [[284.  77.]]\n"
     ]
    }
   ],
   "source": [
    "\n",
    "df_f = df[(df['partner_encoded'] == 0) & (df['dependents_encoded'] == 1)]\n",
    "df_f = df_f[['gender_encoded', 'partner_encoded', 'dependents_encoded', 'churn_encoded']]\n",
    "\n",
    "contingency_table = pd.crosstab([df_f['partner_encoded'], df_f['dependents_encoded']], df_f['churn_encoded'])\n",
    "\n",
    "# compute and display values of test\n",
    "chi2, p_value, dof, expected = chi2_contingency(contingency_table)\n",
    "print(\"Chi-squared statistic:\", chi2)\n",
    "print(\"P-value:\", p_value)\n",
    "print(\"Degrees of freedom:\", dof)\n",
    "print(\"Expected frequencies:\\n\", expected)"
   ]
  },
  {
   "cell_type": "markdown",
   "metadata": {},
   "source": [
    "###### rf"
   ]
  },
  {
   "cell_type": "code",
   "execution_count": 210,
   "metadata": {},
   "outputs": [
    {
     "name": "stdout",
     "output_type": "stream",
     "text": [
      "Accuracy of random forest classifier on training set: 0.79\n"
     ]
    }
   ],
   "source": [
    "rf = RandomForestClassifier(bootstrap=True, \n",
    "                            class_weight=None, \n",
    "                            criterion='gini',\n",
    "                            min_samples_leaf=1,\n",
    "                            n_estimators=100,\n",
    "                            max_depth=20, \n",
    "                            random_state=123)\n",
    "\n",
    "rf.fit(x_train, y_train)\n",
    "\n",
    "# make predictions\n",
    "y_pred = rf.predict(x_train)\n",
    "# estimate probability of survive\n",
    "y_pred_proba = rf.predict_proba(x_train)\n",
    "\n",
    "print('Accuracy of random forest classifier on training set: {:.2f}'\n",
    "     .format(rf.score(x_train, y_train)))"
   ]
  },
  {
   "cell_type": "code",
   "execution_count": 211,
   "metadata": {},
   "outputs": [
    {
     "name": "stdout",
     "output_type": "stream",
     "text": [
      "              precision    recall  f1-score   support\n",
      "\n",
      "           0       0.79      1.00      0.88       170\n",
      "           1       0.00      0.00      0.00        46\n",
      "\n",
      "    accuracy                           0.79       216\n",
      "   macro avg       0.39      0.50      0.44       216\n",
      "weighted avg       0.62      0.79      0.69       216\n",
      "\n"
     ]
    }
   ],
   "source": [
    "print(classification_report(y_train, y_pred))"
   ]
  },
  {
   "cell_type": "code",
   "execution_count": 212,
   "metadata": {},
   "outputs": [
    {
     "name": "stdout",
     "output_type": "stream",
     "text": [
      "Iteration 1 - Max Depth: 20, Min Samples Leaf: 1\n",
      "Classification Report:\n",
      "               precision    recall  f1-score   support\n",
      "\n",
      "           0       0.79      1.00      0.88       170\n",
      "           1       0.00      0.00      0.00        46\n",
      "\n",
      "    accuracy                           0.79       216\n",
      "   macro avg       0.39      0.50      0.44       216\n",
      "weighted avg       0.62      0.79      0.69       216\n",
      "\n",
      "Iteration 2 - Max Depth: 19, Min Samples Leaf: 2\n",
      "Classification Report:\n",
      "               precision    recall  f1-score   support\n",
      "\n",
      "           0       0.79      1.00      0.88       170\n",
      "           1       0.00      0.00      0.00        46\n",
      "\n",
      "    accuracy                           0.79       216\n",
      "   macro avg       0.39      0.50      0.44       216\n",
      "weighted avg       0.62      0.79      0.69       216\n",
      "\n",
      "Iteration 3 - Max Depth: 18, Min Samples Leaf: 3\n",
      "Classification Report:\n",
      "               precision    recall  f1-score   support\n",
      "\n",
      "           0       0.79      1.00      0.88       170\n",
      "           1       0.00      0.00      0.00        46\n",
      "\n",
      "    accuracy                           0.79       216\n",
      "   macro avg       0.39      0.50      0.44       216\n",
      "weighted avg       0.62      0.79      0.69       216\n",
      "\n",
      "Iteration 4 - Max Depth: 17, Min Samples Leaf: 4\n",
      "Classification Report:\n",
      "               precision    recall  f1-score   support\n",
      "\n",
      "           0       0.79      1.00      0.88       170\n",
      "           1       0.00      0.00      0.00        46\n",
      "\n",
      "    accuracy                           0.79       216\n",
      "   macro avg       0.39      0.50      0.44       216\n",
      "weighted avg       0.62      0.79      0.69       216\n",
      "\n",
      "Iteration 5 - Max Depth: 16, Min Samples Leaf: 5\n",
      "Classification Report:\n",
      "               precision    recall  f1-score   support\n",
      "\n",
      "           0       0.79      1.00      0.88       170\n",
      "           1       0.00      0.00      0.00        46\n",
      "\n",
      "    accuracy                           0.79       216\n",
      "   macro avg       0.39      0.50      0.44       216\n",
      "weighted avg       0.62      0.79      0.69       216\n",
      "\n",
      "Iteration 6 - Max Depth: 15, Min Samples Leaf: 6\n",
      "Classification Report:\n",
      "               precision    recall  f1-score   support\n",
      "\n",
      "           0       0.79      1.00      0.88       170\n",
      "           1       0.00      0.00      0.00        46\n",
      "\n",
      "    accuracy                           0.79       216\n",
      "   macro avg       0.39      0.50      0.44       216\n",
      "weighted avg       0.62      0.79      0.69       216\n",
      "\n",
      "Iteration 7 - Max Depth: 14, Min Samples Leaf: 7\n",
      "Classification Report:\n",
      "               precision    recall  f1-score   support\n",
      "\n",
      "           0       0.79      1.00      0.88       170\n",
      "           1       0.00      0.00      0.00        46\n",
      "\n",
      "    accuracy                           0.79       216\n",
      "   macro avg       0.39      0.50      0.44       216\n",
      "weighted avg       0.62      0.79      0.69       216\n",
      "\n",
      "Iteration 8 - Max Depth: 13, Min Samples Leaf: 8\n",
      "Classification Report:\n",
      "               precision    recall  f1-score   support\n",
      "\n",
      "           0       0.79      1.00      0.88       170\n",
      "           1       0.00      0.00      0.00        46\n",
      "\n",
      "    accuracy                           0.79       216\n",
      "   macro avg       0.39      0.50      0.44       216\n",
      "weighted avg       0.62      0.79      0.69       216\n",
      "\n",
      "Iteration 9 - Max Depth: 12, Min Samples Leaf: 9\n",
      "Classification Report:\n",
      "               precision    recall  f1-score   support\n",
      "\n",
      "           0       0.79      1.00      0.88       170\n",
      "           1       0.00      0.00      0.00        46\n",
      "\n",
      "    accuracy                           0.79       216\n",
      "   macro avg       0.39      0.50      0.44       216\n",
      "weighted avg       0.62      0.79      0.69       216\n",
      "\n",
      "Iteration 10 - Max Depth: 11, Min Samples Leaf: 10\n",
      "Classification Report:\n",
      "               precision    recall  f1-score   support\n",
      "\n",
      "           0       0.79      1.00      0.88       170\n",
      "           1       0.00      0.00      0.00        46\n",
      "\n",
      "    accuracy                           0.79       216\n",
      "   macro avg       0.39      0.50      0.44       216\n",
      "weighted avg       0.62      0.79      0.69       216\n",
      "\n",
      "Iteration 11 - Max Depth: 10, Min Samples Leaf: 11\n",
      "Classification Report:\n",
      "               precision    recall  f1-score   support\n",
      "\n",
      "           0       0.79      1.00      0.88       170\n",
      "           1       0.00      0.00      0.00        46\n",
      "\n",
      "    accuracy                           0.79       216\n",
      "   macro avg       0.39      0.50      0.44       216\n",
      "weighted avg       0.62      0.79      0.69       216\n",
      "\n",
      "Iteration 12 - Max Depth: 9, Min Samples Leaf: 12\n",
      "Classification Report:\n",
      "               precision    recall  f1-score   support\n",
      "\n",
      "           0       0.79      1.00      0.88       170\n",
      "           1       0.00      0.00      0.00        46\n",
      "\n",
      "    accuracy                           0.79       216\n",
      "   macro avg       0.39      0.50      0.44       216\n",
      "weighted avg       0.62      0.79      0.69       216\n",
      "\n",
      "Iteration 13 - Max Depth: 8, Min Samples Leaf: 13\n",
      "Classification Report:\n",
      "               precision    recall  f1-score   support\n",
      "\n",
      "           0       0.79      1.00      0.88       170\n",
      "           1       0.00      0.00      0.00        46\n",
      "\n",
      "    accuracy                           0.79       216\n",
      "   macro avg       0.39      0.50      0.44       216\n",
      "weighted avg       0.62      0.79      0.69       216\n",
      "\n",
      "Iteration 14 - Max Depth: 7, Min Samples Leaf: 14\n",
      "Classification Report:\n",
      "               precision    recall  f1-score   support\n",
      "\n",
      "           0       0.79      1.00      0.88       170\n",
      "           1       0.00      0.00      0.00        46\n",
      "\n",
      "    accuracy                           0.79       216\n",
      "   macro avg       0.39      0.50      0.44       216\n",
      "weighted avg       0.62      0.79      0.69       216\n",
      "\n",
      "Iteration 15 - Max Depth: 6, Min Samples Leaf: 15\n",
      "Classification Report:\n",
      "               precision    recall  f1-score   support\n",
      "\n",
      "           0       0.79      1.00      0.88       170\n",
      "           1       0.00      0.00      0.00        46\n",
      "\n",
      "    accuracy                           0.79       216\n",
      "   macro avg       0.39      0.50      0.44       216\n",
      "weighted avg       0.62      0.79      0.69       216\n",
      "\n",
      "Iteration 16 - Max Depth: 5, Min Samples Leaf: 16\n",
      "Classification Report:\n",
      "               precision    recall  f1-score   support\n",
      "\n",
      "           0       0.79      1.00      0.88       170\n",
      "           1       0.00      0.00      0.00        46\n",
      "\n",
      "    accuracy                           0.79       216\n",
      "   macro avg       0.39      0.50      0.44       216\n",
      "weighted avg       0.62      0.79      0.69       216\n",
      "\n",
      "Iteration 17 - Max Depth: 4, Min Samples Leaf: 17\n",
      "Classification Report:\n",
      "               precision    recall  f1-score   support\n",
      "\n",
      "           0       0.79      1.00      0.88       170\n",
      "           1       0.00      0.00      0.00        46\n",
      "\n",
      "    accuracy                           0.79       216\n",
      "   macro avg       0.39      0.50      0.44       216\n",
      "weighted avg       0.62      0.79      0.69       216\n",
      "\n",
      "Iteration 18 - Max Depth: 3, Min Samples Leaf: 18\n",
      "Classification Report:\n",
      "               precision    recall  f1-score   support\n",
      "\n",
      "           0       0.79      1.00      0.88       170\n",
      "           1       0.00      0.00      0.00        46\n",
      "\n",
      "    accuracy                           0.79       216\n",
      "   macro avg       0.39      0.50      0.44       216\n",
      "weighted avg       0.62      0.79      0.69       216\n",
      "\n",
      "Iteration 19 - Max Depth: 2, Min Samples Leaf: 19\n",
      "Classification Report:\n",
      "               precision    recall  f1-score   support\n",
      "\n",
      "           0       0.79      1.00      0.88       170\n",
      "           1       0.00      0.00      0.00        46\n",
      "\n",
      "    accuracy                           0.79       216\n",
      "   macro avg       0.39      0.50      0.44       216\n",
      "weighted avg       0.62      0.79      0.69       216\n",
      "\n",
      "Iteration 20 - Max Depth: 1, Min Samples Leaf: 20\n",
      "Classification Report:\n",
      "               precision    recall  f1-score   support\n",
      "\n",
      "           0       0.79      1.00      0.88       170\n",
      "           1       0.00      0.00      0.00        46\n",
      "\n",
      "    accuracy                           0.79       216\n",
      "   macro avg       0.39      0.50      0.44       216\n",
      "weighted avg       0.62      0.79      0.69       216\n",
      "\n"
     ]
    }
   ],
   "source": [
    "# fx for iteration over change in depth, leaf\n",
    "def iterate_rf(rf, iterations, x, y):\n",
    "    for i in range(iterations):\n",
    "        # Create a new RandomForestClassifier object in each iteration\n",
    "        new_rf = RandomForestClassifier(max_depth=rf.max_depth - i, min_samples_leaf=rf.min_samples_leaf + i)\n",
    "        new_rf.fit(x, y)  # Fit the new RF model with the updated parameters\n",
    "        print(f\"Iteration {i+1} - Max Depth: {new_rf.max_depth}, Min Samples Leaf: {new_rf.min_samples_leaf}\")\n",
    "        print(\"Classification Report:\\n\", classification_report(y, new_rf.predict(x)))\n",
    "\n",
    "num_iterations = 20\n",
    "\n",
    "# iterate over object and display classification report\n",
    "iterate_rf(rf, num_iterations, x_train, y_train)"
   ]
  },
  {
   "cell_type": "markdown",
   "metadata": {},
   "source": [
    "## New model for assessing relationship monthly bill to churn"
   ]
  },
  {
   "cell_type": "markdown",
   "metadata": {},
   "source": [
    "H<sub>0</sub> : Monthly bill unrelated to churn.\n",
    "\n",
    "H<sub>A</sub> : Monthly bill related to churn."
   ]
  },
  {
   "cell_type": "code",
   "execution_count": 18,
   "metadata": {},
   "outputs": [
    {
     "data": {
      "image/png": "[encoded data removed]",
      "text/plain": [
       "<Figure size 800x600 with 1 Axes>"
      ]
     },
     "metadata": {},
     "output_type": "display_data"
    }
   ],
   "source": [
    "df_b = df[['monthly_charges', 'churn_encoded']]\n",
    "\n",
    "# Set the figure size\n",
    "plt.figure(figsize=(8, 6))\n",
    "\n",
    "# Create the box plot\n",
    "sns.boxplot(x='churn_encoded', y='monthly_charges', data=df_b)\n",
    "\n",
    "# Calculate and plot the average monthly price\n",
    "average_monthly_price = df_b['monthly_charges'].mean()\n",
    "plt.axhline(y=average_monthly_price, color='r', label='Average Monthly Price')\n",
    "\n",
    "# Set the plot labels and title\n",
    "plt.xlabel('Churn')\n",
    "plt.ylabel('Monthly Charges')\n",
    "plt.title('Box Plot of Churn vs Monthly Charges')\n",
    "\n",
    "# Add a legend\n",
    "plt.legend()\n",
    "\n",
    "# Display the plot\n",
    "plt.show()"
   ]
  },
  {
   "cell_type": "code",
   "execution_count": 152,
   "metadata": {
    "scrolled": true
   },
   "outputs": [
    {
     "name": "stdout",
     "output_type": "stream",
     "text": [
      "(4225, 2)\n",
      "(1409, 2)\n",
      "(1409, 2)\n",
      "Accuracy of Log. Reg. object on train set: 0.735\n",
      "              precision    recall  f1-score   support\n",
      "\n",
      "           0       0.73      1.00      0.85      3104\n",
      "           1       0.00      0.00      0.00      1121\n",
      "\n",
      "    accuracy                           0.73      4225\n",
      "   macro avg       0.37      0.50      0.42      4225\n",
      "weighted avg       0.54      0.73      0.62      4225\n",
      "\n"
     ]
    }
   ],
   "source": [
    "df_f = df[['monthly_charges', 'churn_encoded']]\n",
    "\n",
    "train, validate, test = my_train_test_split(df_f,'churn_encoded')\n",
    "print(train.shape)\n",
    "print(validate.shape)\n",
    "print(test.shape)\n",
    "# this split removes further objects from train,val, test for logistic regression error avoidance\n",
    "x_train = train.drop(columns=['churn_encoded']).dropna()\n",
    "y_train = train.churn_encoded.dropna()\n",
    "\n",
    "x_val = validate.drop(columns=['churn_encoded']).dropna()\n",
    "y_val = validate.churn_encoded\n",
    "\n",
    "x_test = test.drop(columns=['churn_encoded']).dropna()\n",
    "y_test = test.churn_encoded\n",
    "\n",
    "reg_o = LogisticRegression()\n",
    "reg_o.fit(x_train, y_train)\n",
    "y_pred = reg_o.predict(x_train)\n",
    "\n",
    "\n",
    "print('Accuracy of Log. Reg. object on train set: {:.3f}'\n",
    "     .format(reg_o.score(x_train, y_train)))\n",
    "\n",
    "\n",
    "print(classification_report(y_train, y_pred))"
   ]
  },
  {
   "cell_type": "markdown",
   "metadata": {},
   "source": [
    "the above pos (churn) metrics stink. moving onto new test."
   ]
  },
  {
   "cell_type": "markdown",
   "metadata": {},
   "source": [
    "##### RF"
   ]
  },
  {
   "cell_type": "code",
   "execution_count": 187,
   "metadata": {},
   "outputs": [],
   "source": [
    "from sklearn.ensemble import RandomForestClassifier"
   ]
  },
  {
   "cell_type": "code",
   "execution_count": 194,
   "metadata": {},
   "outputs": [],
   "source": [
    "# create object\n",
    "rf = RandomForestClassifier(bootstrap=True, \n",
    "                            class_weight=None, \n",
    "                            criterion='gini',\n",
    "                            min_samples_leaf=1,\n",
    "                            n_estimators=100,\n",
    "                            max_depth=20, \n",
    "                            random_state=123)"
   ]
  },
  {
   "cell_type": "code",
   "execution_count": 195,
   "metadata": {},
   "outputs": [
    {
     "data": {
      "text/html": [
       "<style>#sk-container-id-18 {color: black;background-color: white;}#sk-container-id-18 pre{padding: 0;}#sk-container-id-18 div.sk-toggleable {background-color: white;}#sk-container-id-18 label.sk-toggleable__label {cursor: pointer;display: block;width: 100%;margin-bottom: 0;padding: 0.3em;box-sizing: border-box;text-align: center;}#sk-container-id-18 label.sk-toggleable__label-arrow:before {content: \"▸\";float: left;margin-right: 0.25em;color: #696969;}#sk-container-id-18 label.sk-toggleable__label-arrow:hover:before {color: black;}#sk-container-id-18 div.sk-estimator:hover label.sk-toggleable__label-arrow:before {color: black;}#sk-container-id-18 div.sk-toggleable__content {max-height: 0;max-width: 0;overflow: hidden;text-align: left;background-color: #f0f8ff;}#sk-container-id-18 div.sk-toggleable__content pre {margin: 0.2em;color: black;border-radius: 0.25em;background-color: #f0f8ff;}#sk-container-id-18 input.sk-toggleable__control:checked~div.sk-toggleable__content {max-height: 200px;max-width: 100%;overflow: auto;}#sk-container-id-18 input.sk-toggleable__control:checked~label.sk-toggleable__label-arrow:before {content: \"▾\";}#sk-container-id-18 div.sk-estimator input.sk-toggleable__control:checked~label.sk-toggleable__label {background-color: #d4ebff;}#sk-container-id-18 div.sk-label input.sk-toggleable__control:checked~label.sk-toggleable__label {background-color: #d4ebff;}#sk-container-id-18 input.sk-hidden--visually {border: 0;clip: rect(1px 1px 1px 1px);clip: rect(1px, 1px, 1px, 1px);height: 1px;margin: -1px;overflow: hidden;padding: 0;position: absolute;width: 1px;}#sk-container-id-18 div.sk-estimator {font-family: monospace;background-color: #f0f8ff;border: 1px dotted black;border-radius: 0.25em;box-sizing: border-box;margin-bottom: 0.5em;}#sk-container-id-18 div.sk-estimator:hover {background-color: #d4ebff;}#sk-container-id-18 div.sk-parallel-item::after {content: \"\";width: 100%;border-bottom: 1px solid gray;flex-grow: 1;}#sk-container-id-18 div.sk-label:hover label.sk-toggleable__label {background-color: #d4ebff;}#sk-container-id-18 div.sk-serial::before {content: \"\";position: absolute;border-left: 1px solid gray;box-sizing: border-box;top: 0;bottom: 0;left: 50%;z-index: 0;}#sk-container-id-18 div.sk-serial {display: flex;flex-direction: column;align-items: center;background-color: white;padding-right: 0.2em;padding-left: 0.2em;position: relative;}#sk-container-id-18 div.sk-item {position: relative;z-index: 1;}#sk-container-id-18 div.sk-parallel {display: flex;align-items: stretch;justify-content: center;background-color: white;position: relative;}#sk-container-id-18 div.sk-item::before, #sk-container-id-18 div.sk-parallel-item::before {content: \"\";position: absolute;border-left: 1px solid gray;box-sizing: border-box;top: 0;bottom: 0;left: 50%;z-index: -1;}#sk-container-id-18 div.sk-parallel-item {display: flex;flex-direction: column;z-index: 1;position: relative;background-color: white;}#sk-container-id-18 div.sk-parallel-item:first-child::after {align-self: flex-end;width: 50%;}#sk-container-id-18 div.sk-parallel-item:last-child::after {align-self: flex-start;width: 50%;}#sk-container-id-18 div.sk-parallel-item:only-child::after {width: 0;}#sk-container-id-18 div.sk-dashed-wrapped {border: 1px dashed gray;margin: 0 0.4em 0.5em 0.4em;box-sizing: border-box;padding-bottom: 0.4em;background-color: white;}#sk-container-id-18 div.sk-label label {font-family: monospace;font-weight: bold;display: inline-block;line-height: 1.2em;}#sk-container-id-18 div.sk-label-container {text-align: center;}#sk-container-id-18 div.sk-container {/* jupyter's `normalize.less` sets `[hidden] { display: none; }` but bootstrap.min.css set `[hidden] { display: none !important; }` so we also need the `!important` here to be able to override the default hidden behavior on the sphinx rendered scikit-learn.org. See: https://github.com/scikit-learn/scikit-learn/issues/21755 */display: inline-block !important;position: relative;}#sk-container-id-18 div.sk-text-repr-fallback {display: none;}</style><div id=\"sk-container-id-18\" class=\"sk-top-container\"><div class=\"sk-text-repr-fallback\"><pre>RandomForestClassifier(max_depth=20, random_state=123)</pre><b>In a Jupyter environment, please rerun this cell to show the HTML representation or trust the notebook. <br />On GitHub, the HTML representation is unable to render, please try loading this page with nbviewer.org.</b></div><div class=\"sk-container\" hidden><div class=\"sk-item\"><div class=\"sk-estimator sk-toggleable\"><input class=\"sk-toggleable__control sk-hidden--visually\" id=\"sk-estimator-id-18\" type=\"checkbox\" checked><label for=\"sk-estimator-id-18\" class=\"sk-toggleable__label sk-toggleable__label-arrow\">RandomForestClassifier</label><div class=\"sk-toggleable__content\"><pre>RandomForestClassifier(max_depth=20, random_state=123)</pre></div></div></div></div></div>"
      ],
      "text/plain": [
       "RandomForestClassifier(max_depth=20, random_state=123)"
      ]
     },
     "execution_count": 195,
     "metadata": {},
     "output_type": "execute_result"
    }
   ],
   "source": [
    "rf.fit(x_train, y_train)"
   ]
  },
  {
   "cell_type": "code",
   "execution_count": 196,
   "metadata": {},
   "outputs": [],
   "source": [
    "# make predictions\n",
    "y_pred = rf.predict(x_train)\n",
    "# estimate probability of survive\n",
    "y_pred_proba = rf.predict_proba(x_train)"
   ]
  },
  {
   "cell_type": "code",
   "execution_count": 197,
   "metadata": {},
   "outputs": [
    {
     "name": "stdout",
     "output_type": "stream",
     "text": [
      "Accuracy of random forest classifier on training set: 0.81\n"
     ]
    }
   ],
   "source": [
    "print('Accuracy of random forest classifier on training set: {:.2f}'\n",
    "     .format(rf.score(x_train, y_train)))"
   ]
  },
  {
   "cell_type": "code",
   "execution_count": 198,
   "metadata": {},
   "outputs": [
    {
     "name": "stdout",
     "output_type": "stream",
     "text": [
      "              precision    recall  f1-score   support\n",
      "\n",
      "           0       0.83      0.94      0.88      3104\n",
      "           1       0.73      0.47      0.57      1121\n",
      "\n",
      "    accuracy                           0.81      4225\n",
      "   macro avg       0.78      0.70      0.73      4225\n",
      "weighted avg       0.80      0.81      0.80      4225\n",
      "\n"
     ]
    }
   ],
   "source": [
    "print(classification_report(y_train, y_pred))"
   ]
  },
  {
   "cell_type": "code",
   "execution_count": 201,
   "metadata": {},
   "outputs": [
    {
     "name": "stdout",
     "output_type": "stream",
     "text": [
      "Iteration 1 - Max Depth: 20, Min Samples Leaf: 1\n",
      "Classification Report:\n",
      "               precision    recall  f1-score   support\n",
      "\n",
      "           0       0.83      0.94      0.88      3104\n",
      "           1       0.73      0.47      0.57      1121\n",
      "\n",
      "    accuracy                           0.81      4225\n",
      "   macro avg       0.78      0.70      0.73      4225\n",
      "weighted avg       0.80      0.81      0.80      4225\n",
      "\n",
      "Iteration 2 - Max Depth: 19, Min Samples Leaf: 2\n",
      "Classification Report:\n",
      "               precision    recall  f1-score   support\n",
      "\n",
      "           0       0.81      0.94      0.87      3104\n",
      "           1       0.71      0.39      0.50      1121\n",
      "\n",
      "    accuracy                           0.80      4225\n",
      "   macro avg       0.76      0.67      0.69      4225\n",
      "weighted avg       0.78      0.80      0.77      4225\n",
      "\n",
      "Iteration 3 - Max Depth: 18, Min Samples Leaf: 3\n",
      "Classification Report:\n",
      "               precision    recall  f1-score   support\n",
      "\n",
      "           0       0.80      0.95      0.87      3104\n",
      "           1       0.70      0.36      0.47      1121\n",
      "\n",
      "    accuracy                           0.79      4225\n",
      "   macro avg       0.75      0.65      0.67      4225\n",
      "weighted avg       0.78      0.79      0.76      4225\n",
      "\n",
      "Iteration 4 - Max Depth: 17, Min Samples Leaf: 4\n",
      "Classification Report:\n",
      "               precision    recall  f1-score   support\n",
      "\n",
      "           0       0.80      0.95      0.87      3104\n",
      "           1       0.69      0.34      0.45      1121\n",
      "\n",
      "    accuracy                           0.78      4225\n",
      "   macro avg       0.74      0.64      0.66      4225\n",
      "weighted avg       0.77      0.78      0.76      4225\n",
      "\n",
      "Iteration 5 - Max Depth: 16, Min Samples Leaf: 5\n",
      "Classification Report:\n",
      "               precision    recall  f1-score   support\n",
      "\n",
      "           0       0.79      0.95      0.86      3104\n",
      "           1       0.68      0.30      0.42      1121\n",
      "\n",
      "    accuracy                           0.78      4225\n",
      "   macro avg       0.74      0.63      0.64      4225\n",
      "weighted avg       0.76      0.78      0.75      4225\n",
      "\n",
      "Iteration 6 - Max Depth: 15, Min Samples Leaf: 6\n",
      "Classification Report:\n",
      "               precision    recall  f1-score   support\n",
      "\n",
      "           0       0.78      0.95      0.86      3104\n",
      "           1       0.67      0.27      0.38      1121\n",
      "\n",
      "    accuracy                           0.77      4225\n",
      "   macro avg       0.73      0.61      0.62      4225\n",
      "weighted avg       0.75      0.77      0.73      4225\n",
      "\n",
      "Iteration 7 - Max Depth: 14, Min Samples Leaf: 7\n",
      "Classification Report:\n",
      "               precision    recall  f1-score   support\n",
      "\n",
      "           0       0.78      0.95      0.86      3104\n",
      "           1       0.67      0.25      0.36      1121\n",
      "\n",
      "    accuracy                           0.77      4225\n",
      "   macro avg       0.72      0.60      0.61      4225\n",
      "weighted avg       0.75      0.77      0.73      4225\n",
      "\n",
      "Iteration 8 - Max Depth: 13, Min Samples Leaf: 8\n",
      "Classification Report:\n",
      "               precision    recall  f1-score   support\n",
      "\n",
      "           0       0.77      0.96      0.86      3104\n",
      "           1       0.65      0.21      0.32      1121\n",
      "\n",
      "    accuracy                           0.76      4225\n",
      "   macro avg       0.71      0.59      0.59      4225\n",
      "weighted avg       0.74      0.76      0.71      4225\n",
      "\n",
      "Iteration 9 - Max Depth: 12, Min Samples Leaf: 9\n",
      "Classification Report:\n",
      "               precision    recall  f1-score   support\n",
      "\n",
      "           0       0.76      0.97      0.85      3104\n",
      "           1       0.65      0.17      0.27      1121\n",
      "\n",
      "    accuracy                           0.76      4225\n",
      "   macro avg       0.71      0.57      0.56      4225\n",
      "weighted avg       0.73      0.76      0.70      4225\n",
      "\n",
      "Iteration 10 - Max Depth: 11, Min Samples Leaf: 10\n",
      "Classification Report:\n",
      "               precision    recall  f1-score   support\n",
      "\n",
      "           0       0.76      0.97      0.85      3104\n",
      "           1       0.66      0.15      0.24      1121\n",
      "\n",
      "    accuracy                           0.75      4225\n",
      "   macro avg       0.71      0.56      0.55      4225\n",
      "weighted avg       0.73      0.75      0.69      4225\n",
      "\n",
      "Iteration 11 - Max Depth: 10, Min Samples Leaf: 11\n",
      "Classification Report:\n",
      "               precision    recall  f1-score   support\n",
      "\n",
      "           0       0.75      0.98      0.85      3104\n",
      "           1       0.64      0.12      0.20      1121\n",
      "\n",
      "    accuracy                           0.75      4225\n",
      "   macro avg       0.70      0.55      0.53      4225\n",
      "weighted avg       0.72      0.75      0.68      4225\n",
      "\n",
      "Iteration 12 - Max Depth: 9, Min Samples Leaf: 12\n",
      "Classification Report:\n",
      "               precision    recall  f1-score   support\n",
      "\n",
      "           0       0.75      0.98      0.85      3104\n",
      "           1       0.65      0.12      0.20      1121\n",
      "\n",
      "    accuracy                           0.75      4225\n",
      "   macro avg       0.70      0.55      0.52      4225\n",
      "weighted avg       0.73      0.75      0.68      4225\n",
      "\n",
      "Iteration 13 - Max Depth: 8, Min Samples Leaf: 13\n",
      "Classification Report:\n",
      "               precision    recall  f1-score   support\n",
      "\n",
      "           0       0.74      0.99      0.85      3104\n",
      "           1       0.66      0.06      0.10      1121\n",
      "\n",
      "    accuracy                           0.74      4225\n",
      "   macro avg       0.70      0.52      0.48      4225\n",
      "weighted avg       0.72      0.74      0.65      4225\n",
      "\n",
      "Iteration 14 - Max Depth: 7, Min Samples Leaf: 14\n",
      "Classification Report:\n",
      "               precision    recall  f1-score   support\n",
      "\n",
      "           0       0.74      0.99      0.85      3104\n",
      "           1       0.65      0.05      0.09      1121\n",
      "\n",
      "    accuracy                           0.74      4225\n",
      "   macro avg       0.69      0.52      0.47      4225\n",
      "weighted avg       0.72      0.74      0.65      4225\n",
      "\n",
      "Iteration 15 - Max Depth: 6, Min Samples Leaf: 15\n",
      "Classification Report:\n",
      "               precision    recall  f1-score   support\n",
      "\n",
      "           0       0.74      1.00      0.85      3104\n",
      "           1       0.62      0.01      0.03      1121\n",
      "\n",
      "    accuracy                           0.74      4225\n",
      "   macro avg       0.68      0.51      0.44      4225\n",
      "weighted avg       0.70      0.74      0.63      4225\n",
      "\n",
      "Iteration 16 - Max Depth: 5, Min Samples Leaf: 16\n",
      "Classification Report:\n",
      "               precision    recall  f1-score   support\n",
      "\n",
      "           0       0.73      1.00      0.85      3104\n",
      "           1       0.00      0.00      0.00      1121\n",
      "\n",
      "    accuracy                           0.73      4225\n",
      "   macro avg       0.37      0.50      0.42      4225\n",
      "weighted avg       0.54      0.73      0.62      4225\n",
      "\n",
      "Iteration 17 - Max Depth: 4, Min Samples Leaf: 17\n",
      "Classification Report:\n",
      "               precision    recall  f1-score   support\n",
      "\n",
      "           0       0.73      1.00      0.85      3104\n",
      "           1       0.00      0.00      0.00      1121\n",
      "\n",
      "    accuracy                           0.73      4225\n",
      "   macro avg       0.37      0.50      0.42      4225\n",
      "weighted avg       0.54      0.73      0.62      4225\n",
      "\n",
      "Iteration 18 - Max Depth: 3, Min Samples Leaf: 18\n",
      "Classification Report:\n",
      "               precision    recall  f1-score   support\n",
      "\n",
      "           0       0.73      1.00      0.85      3104\n",
      "           1       0.00      0.00      0.00      1121\n",
      "\n",
      "    accuracy                           0.73      4225\n",
      "   macro avg       0.37      0.50      0.42      4225\n",
      "weighted avg       0.54      0.73      0.62      4225\n",
      "\n",
      "Iteration 19 - Max Depth: 2, Min Samples Leaf: 19\n",
      "Classification Report:\n",
      "               precision    recall  f1-score   support\n",
      "\n",
      "           0       0.73      1.00      0.85      3104\n",
      "           1       0.00      0.00      0.00      1121\n",
      "\n",
      "    accuracy                           0.73      4225\n",
      "   macro avg       0.37      0.50      0.42      4225\n",
      "weighted avg       0.54      0.73      0.62      4225\n",
      "\n",
      "Iteration 20 - Max Depth: 1, Min Samples Leaf: 20\n",
      "Classification Report:\n",
      "               precision    recall  f1-score   support\n",
      "\n",
      "           0       0.73      1.00      0.85      3104\n",
      "           1       0.00      0.00      0.00      1121\n",
      "\n",
      "    accuracy                           0.73      4225\n",
      "   macro avg       0.37      0.50      0.42      4225\n",
      "weighted avg       0.54      0.73      0.62      4225\n",
      "\n"
     ]
    }
   ],
   "source": [
    "# fx for iteration over change in depth, leaf\n",
    "def iterate_rf(rf, iterations, x, y):\n",
    "    for i in range(iterations):\n",
    "        # Create a new RandomForestClassifier object in each iteration\n",
    "        new_rf = RandomForestClassifier(max_depth=rf.max_depth - i, min_samples_leaf=rf.min_samples_leaf + i)\n",
    "        new_rf.fit(x, y)  # Fit the new RF model with the updated parameters\n",
    "        print(f\"Iteration {i+1} - Max Depth: {new_rf.max_depth}, Min Samples Leaf: {new_rf.min_samples_leaf}\")\n",
    "        print(\"Classification Report:\\n\", classification_report(y, new_rf.predict(x)))\n",
    "\n",
    "num_iterations = 20\n",
    "\n",
    "# iterate over object and display classification report\n",
    "iterate_rf(rf, num_iterations, x_train, y_train)"
   ]
  },
  {
   "cell_type": "markdown",
   "metadata": {},
   "source": [
    "the above metrics indicate a rf of depth 20 provides the best pos churn prediction metrics. "
   ]
  },
  {
   "cell_type": "markdown",
   "metadata": {},
   "source": [
    "##### CHI x2"
   ]
  },
  {
   "cell_type": "code",
   "execution_count": 226,
   "metadata": {},
   "outputs": [
    {
     "name": "stdout",
     "output_type": "stream",
     "text": [
      "Chi-squared statistic: 2123.6091299979576\n",
      "P-value: 1.8852727784255517e-18\n",
      "Degrees of freedom: 1584\n",
      "Expected frequencies:\n",
      " [[0.73463013 0.26536987]\n",
      " [0.73463013 0.26536987]\n",
      " [0.73463013 0.26536987]\n",
      " ...\n",
      " [1.46926026 0.53073974]\n",
      " [0.73463013 0.26536987]\n",
      " [0.73463013 0.26536987]]\n"
     ]
    }
   ],
   "source": [
    "contingency_table = pd.crosstab(df['monthly_charges'], df['churn_encoded'])\n",
    "\n",
    "# compute and display values of test\n",
    "chi2, p_value, dof, expected = chi2_contingency(contingency_table)\n",
    "print(\"Chi-squared statistic:\", chi2)\n",
    "print(\"P-value:\", p_value)\n",
    "print(\"Degrees of freedom:\", dof)\n",
    "print(\"Expected frequencies:\\n\", expected)"
   ]
  },
  {
   "cell_type": "code",
   "execution_count": 227,
   "metadata": {
    "scrolled": true
   },
   "outputs": [
    {
     "data": {
      "image/png": "[encoded data removed]",
      "text/plain": [
       "<Figure size 640x480 with 1 Axes>"
      ]
     },
     "metadata": {},
     "output_type": "display_data"
    }
   ],
   "source": [
    "sns.barplot(x=contingency_table.index, y=contingency_table[1])\n",
    "plt.xlabel('Monthly Charges')\n",
    "plt.ylabel('Count')\n",
    "plt.title('Churn Count by Monthly Charges')\n",
    "plt.show()\n"
   ]
  },
  {
   "cell_type": "markdown",
   "metadata": {},
   "source": [
    "from the above visualization you can see that of those who churn there is a high number paying above average, though there is a near equal proportion churning paying below average."
   ]
  },
  {
   "cell_type": "markdown",
   "metadata": {},
   "source": [
    "###### mann whitney"
   ]
  },
  {
   "cell_type": "code",
   "execution_count": 203,
   "metadata": {},
   "outputs": [
    {
     "data": {
      "text/plain": [
       "<AxesSubplot:>"
      ]
     },
     "execution_count": 203,
     "metadata": {},
     "output_type": "execute_result"
    },
    {
     "data": {
      "image/png": "[encoded data removed]",
      "text/plain": [
       "<Figure size 640x480 with 1 Axes>"
      ]
     },
     "metadata": {},
     "output_type": "display_data"
    }
   ],
   "source": [
    "df.monthly_charges.hist()"
   ]
  },
  {
   "cell_type": "code",
   "execution_count": 213,
   "metadata": {},
   "outputs": [
    {
     "name": "stdout",
     "output_type": "stream",
     "text": [
      "Mann-Whitney U test statistic: 6003125.5\n",
      "P-value: 1.6558138259942924e-54\n",
      "Average monthly charge: 64.7616924605992\n"
     ]
    }
   ],
   "source": [
    "import numpy as np\n",
    "from scipy.stats import mannwhitneyu\n",
    "\n",
    "# Separate the data into two groups based on churned and not churned\n",
    "churned_group = df[df['churn_encoded'] == 1]['monthly_charges']\n",
    "not_churned_group = df[df['churn_encoded'] == 0]['monthly_charges']\n",
    "\n",
    "# Calculate the average monthly charge\n",
    "average_monthly_charge = df['monthly_charges'].mean()\n",
    "\n",
    "# Perform Mann-Whitney U test\n",
    "statistic, p_value = mannwhitneyu(churned_group, not_churned_group, alternative='greater')\n",
    "\n",
    "# Print the results\n",
    "print(\"Mann-Whitney U test statistic:\", statistic)\n",
    "print(\"P-value:\", p_value)\n",
    "print(\"Average monthly charge:\", average_monthly_charge)"
   ]
  },
  {
   "cell_type": "markdown",
   "metadata": {},
   "source": [
    "# Model 'of those with higher than average bill, do they have fiber optic?'"
   ]
  },
  {
   "cell_type": "markdown",
   "metadata": {},
   "source": [
    "###### mann whitney 2.0 \"of those with higher than average bill, do they also have fiber optic?\""
   ]
  },
  {
   "cell_type": "markdown",
   "metadata": {},
   "source": [
    "H<sub>0</sub> : Paying more monthly is unrelated to fiber optic customers. \n",
    "\n",
    "H<sub>A</sub> : Paying more monthly is related to fiber optic customers."
   ]
  },
  {
   "cell_type": "code",
   "execution_count": 220,
   "metadata": {},
   "outputs": [
    {
     "name": "stdout",
     "output_type": "stream",
     "text": [
      "Mann-Whitney U test statistic: 11789456.0\n",
      "P-value: 0.0\n",
      "Average monthly charge (Fiber optic): 91.5001291989665\n",
      "Average monthly charge (Non-Fiber optic): 43.78824423612869\n"
     ]
    }
   ],
   "source": [
    "import numpy as np\n",
    "from scipy.stats import mannwhitneyu\n",
    "\n",
    "df_fiber_optic = df[df['internet_service_type_Fiber optic'] == 1]\n",
    "df_non_fiber_optic = df[df['internet_service_type_Fiber optic'] == 0]\n",
    "\n",
    "# Check if any samples exist in both groups\n",
    "if len(df_fiber_optic) > 0 and len(df_non_fiber_optic) > 0:\n",
    "    x = df_fiber_optic['monthly_charges']\n",
    "    y = df_non_fiber_optic['monthly_charges']\n",
    "\n",
    "    # Perform the Mann-Whitney U test\n",
    "    stat, p_value = mannwhitneyu(x, y)\n",
    "\n",
    "    # Print the results\n",
    "    print(\"Mann-Whitney U test statistic:\", stat)\n",
    "    print(\"P-value:\", p_value)\n",
    "    print(\"Average monthly charge (Fiber optic):\", np.mean(x))\n",
    "    print(\"Average monthly charge (Non-Fiber optic):\", np.mean(y))\n",
    "else:\n",
    "    print(\"No samples found in one or both groups.\")\n"
   ]
  },
  {
   "cell_type": "markdown",
   "metadata": {},
   "source": [
    "after further evaluation, from the above result, the churn rate seems to be in part driven by those who have fiber optic service. "
   ]
  },
  {
   "cell_type": "markdown",
   "metadata": {},
   "source": [
    "## New model for assessing relationship betweent tenure and churn"
   ]
  },
  {
   "cell_type": "markdown",
   "metadata": {},
   "source": [
    "H<sub>0</sub> : Tenure is unrelated to churn.\n",
    "\n",
    "H<sub>A</sub> : Tenure is related to churn."
   ]
  },
  {
   "cell_type": "markdown",
   "metadata": {},
   "source": [
    "###### chi2"
   ]
  },
  {
   "cell_type": "code",
   "execution_count": 222,
   "metadata": {},
   "outputs": [
    {
     "name": "stdout",
     "output_type": "stream",
     "text": [
      "Chi-squared statistic: 1065.3308567510544\n",
      "P-value: 1.2807811055496877e-176\n",
      "Degrees of freedom: 72\n",
      "Expected frequencies:\n",
      " [[  8.08093142   2.91906858]\n",
      " [450.3282692  162.6717308 ]\n",
      " [174.84197075  63.15802925]\n",
      " [146.92602584  53.07397416]\n",
      " [129.29490274  46.70509726]\n",
      " [ 97.70580718  35.29419282]\n",
      " [ 80.80931421  29.19068579]\n",
      " [ 96.23654693  34.76345307]\n",
      " [ 90.35950589  32.64049411]\n",
      " [ 87.42098538  31.57901462]\n",
      " [ 85.21709499  30.78290501]\n",
      " [ 72.72838279  26.27161721]\n",
      " [ 85.95172512  31.04827488]\n",
      " [ 80.07468408  28.92531592]\n",
      " [ 55.83188982  20.16811018]\n",
      " [ 72.72838279  26.27161721]\n",
      " [ 58.77041034  21.22958966]\n",
      " [ 63.91282124  23.08717876]\n",
      " [ 71.25912253  25.74087747]\n",
      " [ 53.62799943  19.37200057]\n",
      " [ 52.15873917  18.84126083]\n",
      " [ 46.28169814  16.71830186]\n",
      " [ 66.11671163  23.88328837]\n",
      " [ 62.44356098  22.55643902]\n",
      " [ 69.05523215  24.94476785]\n",
      " [ 58.03578021  20.96421979]\n",
      " [ 58.03578021  20.96421979]\n",
      " [ 52.8933693   19.1066307 ]\n",
      " [ 41.87391736  15.12608264]\n",
      " [ 52.8933693   19.1066307 ]\n",
      " [ 52.8933693   19.1066307 ]\n",
      " [ 47.7509584   17.2490416 ]\n",
      " [ 50.68947892  18.31052108]\n",
      " [ 47.01632827  16.98367173]\n",
      " [ 47.7509584   17.2490416 ]\n",
      " [ 64.64745137  23.35254863]\n",
      " [ 36.73150646  13.26849354]\n",
      " [ 47.7509584   17.2490416 ]\n",
      " [ 43.34317762  15.65682238]\n",
      " [ 41.13928724  14.86071276]\n",
      " [ 47.01632827  16.98367173]\n",
      " [ 51.42410904  18.57589096]\n",
      " [ 47.7509584   17.2490416 ]\n",
      " [ 47.7509584   17.2490416 ]\n",
      " [ 37.46613659  13.53386341]\n",
      " [ 44.81243788  16.18756212]\n",
      " [ 54.36262956  19.63737044]\n",
      " [ 49.95484879  18.04515121]\n",
      " [ 47.01632827  16.98367173]\n",
      " [ 48.48558853  17.51441147]\n",
      " [ 49.95484879  18.04515121]\n",
      " [ 49.95484879  18.04515121]\n",
      " [ 58.77041034  21.22958966]\n",
      " [ 51.42410904  18.57589096]\n",
      " [ 49.95484879  18.04515121]\n",
      " [ 47.01632827  16.98367173]\n",
      " [ 58.77041034  21.22958966]\n",
      " [ 47.7509584   17.2490416 ]\n",
      " [ 49.22021866  17.77978134]\n",
      " [ 44.07780775  15.92219225]\n",
      " [ 55.83188982  20.16811018]\n",
      " [ 55.83188982  20.16811018]\n",
      " [ 51.42410904  18.57589096]\n",
      " [ 52.8933693   19.1066307 ]\n",
      " [ 58.77041034  21.22958966]\n",
      " [ 55.83188982  20.16811018]\n",
      " [ 65.3820815   23.6179185 ]\n",
      " [ 71.99375266  26.00624734]\n",
      " [ 73.46301292  26.53698708]\n",
      " [ 69.78986227  25.21013773]\n",
      " [ 87.42098538  31.57901462]\n",
      " [124.88712197  45.11287803]\n",
      " [265.93610677  96.06389323]]\n"
     ]
    }
   ],
   "source": [
    "contingency_table = pd.crosstab(df['tenure'], df['churn_encoded'])\n",
    "\n",
    "# compute and display values of test\n",
    "chi2, p_value, dof, expected = chi2_contingency(contingency_table)\n",
    "print(\"Chi-squared statistic:\", chi2)\n",
    "print(\"P-value:\", p_value)\n",
    "print(\"Degrees of freedom:\", dof)\n",
    "print(\"Expected frequencies:\\n\", expected)"
   ]
  },
  {
   "cell_type": "code",
   "execution_count": 224,
   "metadata": {},
   "outputs": [
    {
     "data": {
      "image/png": "[encoded data removed]",
      "text/plain": [
       "<Figure size 640x480 with 1 Axes>"
      ]
     },
     "metadata": {},
     "output_type": "display_data"
    }
   ],
   "source": [
    "import seaborn as sns\n",
    "\n",
    "sns.boxplot(x='churn_encoded', y='tenure', data=df)\n",
    "plt.xlabel('Churn')\n",
    "plt.ylabel('Tenure')\n",
    "plt.title('Tenure of Customers by Churn')\n",
    "plt.show()"
   ]
  },
  {
   "cell_type": "markdown",
   "metadata": {},
   "source": [
    "###### mann whitney"
   ]
  },
  {
   "cell_type": "code",
   "execution_count": 225,
   "metadata": {},
   "outputs": [
    {
     "name": "stdout",
     "output_type": "stream",
     "text": [
      "Mann-Whitney U test statistic: 2515538.0\n",
      "P-value: 2.419635517951866e-208\n"
     ]
    }
   ],
   "source": [
    "import scipy.stats as stats\n",
    "\n",
    "# Separate tenure values for churned and non-churned customers\n",
    "tenure_churned = df[df['churn_encoded'] == 1]['tenure']\n",
    "tenure_non_churned = df[df['churn_encoded'] == 0]['tenure']\n",
    "\n",
    "# Perform Mann-Whitney U test\n",
    "statistic, p_value = stats.mannwhitneyu(tenure_churned, tenure_non_churned)\n",
    "\n",
    "# Display the test statistic and p-value\n",
    "print(\"Mann-Whitney U test statistic:\", statistic)\n",
    "print(\"P-value:\", p_value)"
   ]
  },
  {
   "cell_type": "code",
   "execution_count": null,
   "metadata": {},
   "outputs": [],
   "source": []
  }
 ],
 "metadata": {
  "kernelspec": {
   "display_name": "Python 3 (ipykernel)",
   "language": "python",
   "name": "python3"
  },
  "language_info": {
   "codemirror_mode": {
    "name": "ipython",
    "version": 3
   },
   "file_extension": ".py",
   "mimetype": "text/x-python",
   "name": "python",
   "nbconvert_exporter": "python",
   "pygments_lexer": "ipython3",
   "version": "3.9.13"
  }
 },
 "nbformat": 4,
 "nbformat_minor": 2
}
