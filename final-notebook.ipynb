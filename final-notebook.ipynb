{
 "cells": [
  {
   "cell_type": "markdown",
   "metadata": {},
   "source": [
    "# Telco Churn Project"
   ]
  },
  {
   "cell_type": "markdown",
   "metadata": {},
   "source": [
    "## Objectives: \n",
    "\n",
    "* To determine the drivers of churn from Telco customer data.\n",
    "\n",
    "* Use found drivers in a ML model to make reccomendations to the shareholders of Telco."
   ]
  },
  {
   "cell_type": "markdown",
   "metadata": {},
   "source": [
    "## Wrangle Data:"
   ]
  },
  {
   "cell_type": "markdown",
   "metadata": {},
   "source": [
    "* Data acquired from MySQL 'telco_churn' database.\n",
    "* Dataframe was 7043 rows, 25 columns before cleaning (row:customers, columns: variables).\n",
    "* SQL query customers data, joining relevant tables on shared IDs, creating function to convert to dataframe.\n",
    "* Clean data by dropping irrelevant columns.\n",
    "* Encode useful categorical variables, removing original non-encoded.\n",
    "* Split data (train/val/test) at &asymp; (60/20/20).\n",
    "* Split stratification left ambiguous per use. "
   ]
  },
  {
   "cell_type": "markdown",
   "metadata": {},
   "source": [
    "## Data Dictionary:\n",
    "\n",
    "\n",
    "| Variable Name                         | Description                                                      |\n",
    "|---------------------------------------|------------------------------------------------------------------|\n",
    "| churn_encoded                         | Binary encoding of churn status (0: Not Churn, 1: Churn)         |\n",
    "| monthly_charges                       | The monthly charges for the service  (float)                     |\n",
    "| tenure                                | Number of months the customer has been with the company (int)    |\n",
    "| gender_encoded                        | Binary encoding of customer gender (0: Female, 1: Male)          |\n",
    "| dependents_encoded                    | Binary encoding of customer having dependents (0: No, 1: Yes)    |\n",
    "| internet_service_type_Fiber optic     | Binary encoding if customer has fiber optic internet service     |\n",
    "| ...                                   | Various other encoded values are present in the DataFrame        |\n",
    "\n"
   ]
  },
  {
   "cell_type": "markdown",
   "metadata": {},
   "source": [
    "### Import:"
   ]
  },
  {
   "cell_type": "code",
   "execution_count": 1,
   "metadata": {},
   "outputs": [],
   "source": [
    "import pandas as pd\n",
    "import numpy as np\n",
    "import matplotlib.pyplot as plt\n",
    "\n",
    "from acquire_prep import prep_telco\n",
    "from acquire_prep import my_train_test_split\n",
    "\n",
    "from sklearn.ensemble import RandomForestClassifier\n",
    "from sklearn.linear_model import LogisticRegression\n",
    "from sklearn.metrics import classification_report\n",
    "from sklearn.metrics import confusion_matrix\n",
    "from scipy.stats import chi2_contingency\n",
    "from scipy.stats import mannwhitneyu\n",
    "\n",
    "\n",
    "import warnings\n",
    "warnings.filterwarnings(\"ignore\")"
   ]
  },
  {
   "cell_type": "code",
   "execution_count": null,
   "metadata": {},
   "outputs": [],
   "source": []
  }
 ],
 "metadata": {
  "kernelspec": {
   "display_name": "Python 3 (ipykernel)",
   "language": "python",
   "name": "python3"
  },
  "language_info": {
   "codemirror_mode": {
    "name": "ipython",
    "version": 3
   },
   "file_extension": ".py",
   "mimetype": "text/x-python",
   "name": "python",
   "nbconvert_exporter": "python",
   "pygments_lexer": "ipython3",
   "version": "3.9.13"
  }
 },
 "nbformat": 4,
 "nbformat_minor": 2
}
